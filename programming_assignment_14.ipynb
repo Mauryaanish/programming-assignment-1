{
  "nbformat": 4,
  "nbformat_minor": 0,
  "metadata": {
    "colab": {
      "provenance": []
    },
    "kernelspec": {
      "name": "python3",
      "display_name": "Python 3"
    },
    "language_info": {
      "name": "python"
    }
  },
  "cells": [
    {
      "cell_type": "markdown",
      "source": [
        "1.Define a class with a generator which can iterate the numbers, which are divisible by\n",
        "7, between a given range 0 and n."
      ],
      "metadata": {
        "id": "oe4fQueZkx7s"
      }
    },
    {
      "cell_type": "code",
      "source": [
        "\n",
        "\n",
        "def Divcheck(n):\n",
        "  for i in range(n):\n",
        "    if i % 7 == 0:\n",
        "      value = True\n",
        "    else:\n",
        "      value = False\n",
        "    print(i ,\":-\", value)\n"
      ],
      "metadata": {
        "id": "wj6SrbxKkyoZ"
      },
      "execution_count": 10,
      "outputs": []
    },
    {
      "cell_type": "code",
      "source": [
        "Divcheck(35)"
      ],
      "metadata": {
        "colab": {
          "base_uri": "https://localhost:8080/"
        },
        "id": "bV31tcxpl4eO",
        "outputId": "29ae426e-0e1d-48a0-ad6b-ac86d43a946d"
      },
      "execution_count": 11,
      "outputs": [
        {
          "output_type": "stream",
          "name": "stdout",
          "text": [
            "0 :- True\n",
            "1 :- False\n",
            "2 :- False\n",
            "3 :- False\n",
            "4 :- False\n",
            "5 :- False\n",
            "6 :- False\n",
            "7 :- True\n",
            "8 :- False\n",
            "9 :- False\n",
            "10 :- False\n",
            "11 :- False\n",
            "12 :- False\n",
            "13 :- False\n",
            "14 :- True\n",
            "15 :- False\n",
            "16 :- False\n",
            "17 :- False\n",
            "18 :- False\n",
            "19 :- False\n",
            "20 :- False\n",
            "21 :- True\n",
            "22 :- False\n",
            "23 :- False\n",
            "24 :- False\n",
            "25 :- False\n",
            "26 :- False\n",
            "27 :- False\n",
            "28 :- True\n",
            "29 :- False\n",
            "30 :- False\n",
            "31 :- False\n",
            "32 :- False\n",
            "33 :- False\n",
            "34 :- False\n"
          ]
        }
      ]
    },
    {
      "cell_type": "code",
      "source": [],
      "metadata": {
        "id": "8u7bIahZmEiv"
      },
      "execution_count": null,
      "outputs": []
    },
    {
      "cell_type": "markdown",
      "source": [
        "Write a program to compute the frequency of the words from the input. The output\n",
        "should output after sorting the key alphanumerically.\n",
        "Suppose the following input is supplied to the program:\n",
        "New to Python or choosing between Python 2 and Python 3? Read Python 2 or"
      ],
      "metadata": {
        "id": "LZ45v5ILnWtE"
      }
    },
    {
      "cell_type": "code",
      "source": [
        "Sentence = input('Enter the sentence ').split()\n",
        "word = sorted(set(Sentence))     # sort alphbetically\n",
        "\n",
        "for i in word:\n",
        "    print(\"{0}:{1}\".format(i,Sentence.count(i)))"
      ],
      "metadata": {
        "colab": {
          "base_uri": "https://localhost:8080/"
        },
        "id": "oLodtPP9nXe3",
        "outputId": "c0061129-7cb5-437a-87ff-16f9fd99d1e8"
      },
      "execution_count": 12,
      "outputs": [
        {
          "output_type": "stream",
          "name": "stdout",
          "text": [
            "Enter the sentence New to Python or choosing between Python 2 and Python 3? Read Python 2 or Python 3.\n",
            "2:2\n",
            "3.:1\n",
            "3?:1\n",
            "New:1\n",
            "Python:5\n",
            "Read:1\n",
            "and:1\n",
            "between:1\n",
            "choosing:1\n",
            "or:2\n",
            "to:1\n"
          ]
        }
      ]
    },
    {
      "cell_type": "code",
      "source": [
        " "
      ],
      "metadata": {
        "id": "Q-k6ZxnApHDY"
      },
      "execution_count": null,
      "outputs": []
    },
    {
      "cell_type": "markdown",
      "source": [
        "Define a class Person and its two child classes: Male and Female. All classes have a\n",
        "method &quot;getGender&quot; which can print &quot;Male&quot; for Male class and &quot;Female&quot; for Female\n",
        "class."
      ],
      "metadata": {
        "id": "BNm1YpR5rQz0"
      }
    },
    {
      "cell_type": "code",
      "source": [
        "class Person(object):\n",
        "    def getGender( self ):\n",
        "        return \"None\"\n",
        "\n",
        "class Male( Person ):\n",
        "    def getGender( self ):\n",
        "        return \"Male\"\n",
        "\n",
        "class Female( Person ):\n",
        "    def getGender( self ):\n",
        "        return \"Female\"\n",
        "\n",
        "ob_male = Male()\n",
        "ob_female= Female()\n",
        "print(ob_male.getGender())\n",
        "print(ob_female.getGender())\n",
        "     "
      ],
      "metadata": {
        "colab": {
          "base_uri": "https://localhost:8080/"
        },
        "id": "5Ft_iI1Xr-nu",
        "outputId": "5aa60957-3ea4-4a9c-e6c4-00fee9d09269"
      },
      "execution_count": 16,
      "outputs": [
        {
          "output_type": "stream",
          "name": "stdout",
          "text": [
            "Male\n",
            "Female\n"
          ]
        }
      ]
    },
    {
      "cell_type": "code",
      "source": [],
      "metadata": {
        "id": "n6DAqGuzsVhd"
      },
      "execution_count": null,
      "outputs": []
    },
    {
      "cell_type": "markdown",
      "source": [
        "Please write a program to generate all sentences where subject is in [&quot;I&quot;, &quot;You&quot;] and\n",
        "verb is in [&quot;Play&quot;, &quot;Love&quot;] and the object is in [&quot;Hockey&quot;,&quot;Football&quot;]."
      ],
      "metadata": {
        "id": "tA5_rhIxscx9"
      }
    },
    {
      "cell_type": "code",
      "source": [
        "subject=[\"I\", \"You\"]\n",
        "verb=[\"Play\", \"Love\"]\n",
        "obj=[\"Hockey\",\"Football\"]\n",
        "\n",
        "\n",
        "str_list = [(sub+\" \"+ vb + \" \" + ob) for sub in subject for vb in verb for ob in obj]\n",
        "for sentence in str_list:\n",
        "    print(sentence)\n",
        "     "
      ],
      "metadata": {
        "colab": {
          "base_uri": "https://localhost:8080/"
        },
        "id": "4QIuUYVSsdRl",
        "outputId": "21b98130-bc8a-4f86-9eae-c2b772b41864"
      },
      "execution_count": 17,
      "outputs": [
        {
          "output_type": "stream",
          "name": "stdout",
          "text": [
            "I Play Hockey\n",
            "I Play Football\n",
            "I Love Hockey\n",
            "I Love Football\n",
            "You Play Hockey\n",
            "You Play Football\n",
            "You Love Hockey\n",
            "You Love Football\n"
          ]
        }
      ]
    },
    {
      "cell_type": "code",
      "source": [],
      "metadata": {
        "id": "jeDz8Yt3syvl"
      },
      "execution_count": null,
      "outputs": []
    },
    {
      "cell_type": "markdown",
      "source": [
        "Please write a program to compress and decompress the string &quot;hello world!hello\n",
        "world!hello world!hello world!&quot;."
      ],
      "metadata": {
        "id": "tTqXoD2Os3C7"
      }
    },
    {
      "cell_type": "code",
      "source": [
        "import zlib\n",
        "str = 'hello world!hello world!hello world!hello world!'\n",
        "\n",
        "a = bytes(str, 'utf-8')\n",
        "b = zlib.compress(a)\n",
        "print(b)\n",
        "print(zlib.decompress(b))\n",
        "     "
      ],
      "metadata": {
        "colab": {
          "base_uri": "https://localhost:8080/"
        },
        "id": "eQdSh9Uws3st",
        "outputId": "153d9bea-319b-42b4-8b1c-c3544fbc29fa"
      },
      "execution_count": 18,
      "outputs": [
        {
          "output_type": "stream",
          "name": "stdout",
          "text": [
            "b'x\\x9c\\xcbH\\xcd\\xc9\\xc9W(\\xcf/\\xcaIQ\\xcc \\x82\\r\\x00\\xbd[\\x11\\xf5'\n",
            "b'hello world!hello world!hello world!hello world!'\n"
          ]
        }
      ]
    },
    {
      "cell_type": "code",
      "source": [],
      "metadata": {
        "id": "CgDcan93s7l9"
      },
      "execution_count": null,
      "outputs": []
    },
    {
      "cell_type": "markdown",
      "source": [
        "Please write a binary search function which searches an item in a sorted list. The\n",
        "function should return the index of element to be searched in the list."
      ],
      "metadata": {
        "id": "die7BBWPs_eE"
      }
    },
    {
      "cell_type": "code",
      "source": [
        "from bisect import bisect_left\n",
        "  \n",
        "def BinarySearch(a, x):\n",
        "    i = bisect_left(a, x)\n",
        "    if i != len(a) and a[i] == x:\n",
        "        return i\n",
        "    else:\n",
        "        return -1 \n",
        "\n",
        "a = [1, 2, 4, 4, 8]\n",
        "x = int(4)\n",
        "res = BinarySearch(a, x)\n",
        "if res == -1:\n",
        "    print(x, \"is absent\")\n",
        "else:\n",
        "    print(\"First occurrence of\", x, \"is present at\", res)\n",
        "     "
      ],
      "metadata": {
        "colab": {
          "base_uri": "https://localhost:8080/"
        },
        "id": "98CalTRotACl",
        "outputId": "16a1afe1-7345-43d3-d1f1-5fafcc2605f9"
      },
      "execution_count": 19,
      "outputs": [
        {
          "output_type": "stream",
          "name": "stdout",
          "text": [
            "First occurrence of 4 is present at 2\n"
          ]
        }
      ]
    },
    {
      "cell_type": "code",
      "source": [],
      "metadata": {
        "id": "S5nGgHbDtB2F"
      },
      "execution_count": null,
      "outputs": []
    }
  ]
}