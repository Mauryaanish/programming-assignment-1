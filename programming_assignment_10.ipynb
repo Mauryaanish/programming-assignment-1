{
  "nbformat": 4,
  "nbformat_minor": 0,
  "metadata": {
    "colab": {
      "provenance": []
    },
    "kernelspec": {
      "name": "python3",
      "display_name": "Python 3"
    },
    "language_info": {
      "name": "python"
    }
  },
  "cells": [
    {
      "cell_type": "markdown",
      "source": [
        "1. Write a Python program to find sum of elements in list?"
      ],
      "metadata": {
        "id": "DgtdTJgte821"
      }
    },
    {
      "cell_type": "code",
      "source": [
        "l = [12,32,4,5,234]\n",
        "sum = 0\n",
        "for i in l :\n",
        "  sum = sum+i\n",
        "print(sum)"
      ],
      "metadata": {
        "colab": {
          "base_uri": "https://localhost:8080/"
        },
        "id": "XrVeXSlxe9mC",
        "outputId": "c6a8f1cd-6440-4276-f946-9a902c765882"
      },
      "execution_count": 102,
      "outputs": [
        {
          "output_type": "stream",
          "name": "stdout",
          "text": [
            "287\n"
          ]
        }
      ]
    },
    {
      "cell_type": "code",
      "source": [],
      "metadata": {
        "id": "5t1XMmUKfGXK"
      },
      "execution_count": null,
      "outputs": []
    },
    {
      "cell_type": "markdown",
      "source": [
        "2. Write a Python program to Multiply all numbers in the list?"
      ],
      "metadata": {
        "id": "5rOhk0r7fLEa"
      }
    },
    {
      "cell_type": "code",
      "source": [
        "l1 = [12,34,54,67,76]\n",
        "mul = 1\n",
        "for i in l1:\n",
        "  mul = mul*i\n",
        "\n",
        "print(mul)"
      ],
      "metadata": {
        "colab": {
          "base_uri": "https://localhost:8080/"
        },
        "id": "u9aTZhcafLlb",
        "outputId": "d56ca5ef-c25d-4d86-8348-e1bef7c2527f"
      },
      "execution_count": 103,
      "outputs": [
        {
          "output_type": "stream",
          "name": "stdout",
          "text": [
            "112186944\n"
          ]
        }
      ]
    },
    {
      "cell_type": "code",
      "source": [],
      "metadata": {
        "id": "KlcxXm4vfUwK"
      },
      "execution_count": null,
      "outputs": []
    },
    {
      "cell_type": "markdown",
      "source": [
        "3. Write a Python program to find smallest number in a list?"
      ],
      "metadata": {
        "id": "ybyfd1iKfZm4"
      }
    },
    {
      "cell_type": "code",
      "source": [
        "l = [23,34,6,78,456,7]\n",
        "l.sort()\n",
        "l[0]"
      ],
      "metadata": {
        "colab": {
          "base_uri": "https://localhost:8080/"
        },
        "id": "-CE0r_e0faFN",
        "outputId": "91405952-c173-4c29-a586-425c18ee70cb"
      },
      "execution_count": 110,
      "outputs": [
        {
          "output_type": "execute_result",
          "data": {
            "text/plain": [
              "6"
            ]
          },
          "metadata": {},
          "execution_count": 110
        }
      ]
    },
    {
      "cell_type": "code",
      "source": [],
      "metadata": {
        "id": "1qIPTYxcfg7N"
      },
      "execution_count": null,
      "outputs": []
    },
    {
      "cell_type": "markdown",
      "source": [
        "4. Write a Python program to find largest number in a list?"
      ],
      "metadata": {
        "id": "EqjIumAzgQCw"
      }
    },
    {
      "cell_type": "code",
      "source": [
        "l = [23,34,5,56,32]\n",
        "l.sort()\n",
        "l[-1]"
      ],
      "metadata": {
        "colab": {
          "base_uri": "https://localhost:8080/"
        },
        "id": "Me18ev8-gQmO",
        "outputId": "de607098-52e8-4ba5-ae60-f9fff4b99616"
      },
      "execution_count": 112,
      "outputs": [
        {
          "output_type": "execute_result",
          "data": {
            "text/plain": [
              "56"
            ]
          },
          "metadata": {},
          "execution_count": 112
        }
      ]
    },
    {
      "cell_type": "code",
      "source": [],
      "metadata": {
        "id": "Cip0EZbqgW64"
      },
      "execution_count": null,
      "outputs": []
    },
    {
      "cell_type": "markdown",
      "source": [
        "5. Write a Python program to find second largest number in a list?"
      ],
      "metadata": {
        "id": "hJkMbZ_hgeAA"
      }
    },
    {
      "cell_type": "code",
      "source": [
        "l = [12,34,54,44,88,33,45,6]\n",
        "l.sort()\n",
        "l[-2]"
      ],
      "metadata": {
        "colab": {
          "base_uri": "https://localhost:8080/"
        },
        "id": "OG7jzlfhgezB",
        "outputId": "53b0b680-1603-4a03-f75e-7ed1203e07bf"
      },
      "execution_count": 113,
      "outputs": [
        {
          "output_type": "execute_result",
          "data": {
            "text/plain": [
              "54"
            ]
          },
          "metadata": {},
          "execution_count": 113
        }
      ]
    },
    {
      "cell_type": "code",
      "source": [],
      "metadata": {
        "id": "ublULpW8gmMq"
      },
      "execution_count": null,
      "outputs": []
    },
    {
      "cell_type": "markdown",
      "source": [
        "6. Write a Python program to find N largest elements from a list?"
      ],
      "metadata": {
        "id": "k6MC9vUFgsb7"
      }
    },
    {
      "cell_type": "code",
      "source": [
        "n =3 \n",
        "l = [32,435,65,23,134,675,346,887,332,122]\n",
        "l.sort()\n",
        "l[-n:]"
      ],
      "metadata": {
        "colab": {
          "base_uri": "https://localhost:8080/"
        },
        "id": "MKdWfqbtgs6M",
        "outputId": "03c063ef-6fb5-45ba-cb14-67b3462c6000"
      },
      "execution_count": 119,
      "outputs": [
        {
          "output_type": "execute_result",
          "data": {
            "text/plain": [
              "[435, 675, 887]"
            ]
          },
          "metadata": {},
          "execution_count": 119
        }
      ]
    },
    {
      "cell_type": "code",
      "source": [],
      "metadata": {
        "id": "Y-Pl7jHChNCh"
      },
      "execution_count": null,
      "outputs": []
    },
    {
      "cell_type": "markdown",
      "source": [
        "7. Write a Python program to print even numbers in a list?"
      ],
      "metadata": {
        "id": "Fhole38MhlWk"
      }
    },
    {
      "cell_type": "code",
      "source": [
        "l = [21,23,45,56,68,34,32]\n",
        "\n",
        "for i in l:\n",
        "  if i % 2 == 0:\n",
        "    print(f\"Even Number is: {i}\")"
      ],
      "metadata": {
        "colab": {
          "base_uri": "https://localhost:8080/"
        },
        "id": "ntlHK3FhhmBi",
        "outputId": "af0635f5-f291-4cf9-e237-fba8cbb66afb"
      },
      "execution_count": 123,
      "outputs": [
        {
          "output_type": "stream",
          "name": "stdout",
          "text": [
            "Even Number is: 56\n",
            "Even Number is: 68\n",
            "Even Number is: 34\n",
            "Even Number is: 32\n"
          ]
        }
      ]
    },
    {
      "cell_type": "code",
      "source": [],
      "metadata": {
        "id": "Q8LWPFv1hyVI"
      },
      "execution_count": null,
      "outputs": []
    },
    {
      "cell_type": "markdown",
      "source": [
        "8. Write a Python program to print odd numbers in a List?"
      ],
      "metadata": {
        "id": "mD-n61jmh-sR"
      }
    },
    {
      "cell_type": "code",
      "source": [
        "l = [21,23,45,56,68,34,32]\n",
        "\n",
        "for i in l:\n",
        "  if i % 2 != 0:\n",
        "    print(f\"Odd Number is: {i}\")"
      ],
      "metadata": {
        "colab": {
          "base_uri": "https://localhost:8080/"
        },
        "id": "iXult8A8h_Pt",
        "outputId": "33ac0d1e-71e2-452e-c6cb-6d1bff3b8a71"
      },
      "execution_count": 124,
      "outputs": [
        {
          "output_type": "stream",
          "name": "stdout",
          "text": [
            "Odd Number is: 21\n",
            "Odd Number is: 23\n",
            "Odd Number is: 45\n"
          ]
        }
      ]
    },
    {
      "cell_type": "code",
      "source": [],
      "metadata": {
        "id": "YuQHJRXviJQn"
      },
      "execution_count": null,
      "outputs": []
    },
    {
      "cell_type": "markdown",
      "source": [
        "9. Write a Python program to Remove empty List from List?"
      ],
      "metadata": {
        "id": "Dy4pdhjwpvw_"
      }
    },
    {
      "cell_type": "code",
      "source": [
        "# Initializing list\n",
        "test_list = [5, 6, [], 3, [], [], 9]\n",
        " \n",
        "# printing original list\n",
        "print(\"The original list is : \" + str(test_list))\n",
        " \n",
        "# Remove empty List from List\n",
        "# using list comprehension\n",
        "res = [ele for ele in test_list if ele != []]\n",
        " \n",
        "# printing result\n",
        "print(\"List after empty list removal : \" + str(res))"
      ],
      "metadata": {
        "colab": {
          "base_uri": "https://localhost:8080/"
        },
        "id": "aGiFCRlop1RB",
        "outputId": "9d19f225-3a04-40da-bc24-cefda4b3360e"
      },
      "execution_count": 1,
      "outputs": [
        {
          "output_type": "stream",
          "name": "stdout",
          "text": [
            "The original list is : [5, 6, [], 3, [], [], 9]\n",
            "List after empty list removal : [5, 6, 3, 9]\n"
          ]
        }
      ]
    },
    {
      "cell_type": "code",
      "source": [],
      "metadata": {
        "id": "-vuDOs49qK4U"
      },
      "execution_count": null,
      "outputs": []
    },
    {
      "cell_type": "markdown",
      "source": [
        "10. Write a Python program to Cloning or Copying a list?"
      ],
      "metadata": {
        "id": "ZDQGbE6dqjhr"
      }
    },
    {
      "cell_type": "code",
      "source": [
        "def Cloning(li1):\n",
        "    li_copy = []\n",
        "    li_copy.extend(li1)\n",
        "    return li_copy\n",
        " \n",
        " \n",
        "# Driver Code\n",
        "li1 = [4, 8, 2, 10, 15, 18]\n",
        "li2 = Cloning(li1)\n",
        "print(\"Original List:\", li1)\n",
        "print(\"After Cloning:\", li2)"
      ],
      "metadata": {
        "colab": {
          "base_uri": "https://localhost:8080/"
        },
        "id": "ZIFlVL_RqpZp",
        "outputId": "1f6098ee-c408-446a-f591-cf5fc3c0bb89"
      },
      "execution_count": 3,
      "outputs": [
        {
          "output_type": "stream",
          "name": "stdout",
          "text": [
            "Original List: [4, 8, 2, 10, 15, 18]\n",
            "After Cloning: [4, 8, 2, 10, 15, 18]\n"
          ]
        }
      ]
    },
    {
      "cell_type": "code",
      "source": [],
      "metadata": {
        "id": "sibVgSrEqyjA"
      },
      "execution_count": null,
      "outputs": []
    },
    {
      "cell_type": "markdown",
      "source": [
        "11. Write a Python program to Count occurrences of an element in a list?"
      ],
      "metadata": {
        "id": "cp72x6sTrK1W"
      }
    },
    {
      "cell_type": "code",
      "source": [
        "def find_ele(l , n): # l is list and n this a element\n",
        "  count = 0 \n",
        "  for i in l :\n",
        "    if i == n :\n",
        "      count = count +1 \n",
        "  print(count)"
      ],
      "metadata": {
        "id": "zM9T7w8erLU5"
      },
      "execution_count": 6,
      "outputs": []
    },
    {
      "cell_type": "code",
      "source": [
        "find_ele([12,23,22,12,35,23,12,134,12] , 12)"
      ],
      "metadata": {
        "colab": {
          "base_uri": "https://localhost:8080/"
        },
        "id": "I1nYBhDMtBIZ",
        "outputId": "d3a4899d-a8d1-4eb8-bc76-a65dcfea3432"
      },
      "execution_count": 7,
      "outputs": [
        {
          "output_type": "stream",
          "name": "stdout",
          "text": [
            "4\n"
          ]
        }
      ]
    },
    {
      "cell_type": "code",
      "source": [],
      "metadata": {
        "id": "aQHfTMhxtNnC"
      },
      "execution_count": null,
      "outputs": []
    }
  ]
}