{
  "nbformat": 4,
  "nbformat_minor": 0,
  "metadata": {
    "colab": {
      "provenance": []
    },
    "kernelspec": {
      "name": "python3",
      "display_name": "Python 3"
    },
    "language_info": {
      "name": "python"
    }
  },
  "cells": [
    {
      "cell_type": "markdown",
      "source": [
        "Please write a program using generator to print the numbers which can be divisible by 5 and\n",
        "7 between 0 and n in comma separated form while n is input by console."
      ],
      "metadata": {
        "id": "GaooiI1FvwTs"
      }
    },
    {
      "cell_type": "code",
      "source": [
        "n = int(input(\"Enter Number: \"))\n",
        "\n",
        "for i in range(0 , n+1):\n",
        "  if i % 7 == 0 and i % 5 == 0:\n",
        "    print(i)\n"
      ],
      "metadata": {
        "colab": {
          "base_uri": "https://localhost:8080/"
        },
        "id": "pcr3HySPvw6e",
        "outputId": "21720d01-43a1-4164-88ea-cc582e3fedb5"
      },
      "execution_count": 21,
      "outputs": [
        {
          "output_type": "stream",
          "name": "stdout",
          "text": [
            "Enter Number: 100\n",
            "0\n",
            "35\n",
            "70\n"
          ]
        }
      ]
    },
    {
      "cell_type": "code",
      "source": [],
      "metadata": {
        "id": "FVpVhRoLwA4-"
      },
      "execution_count": null,
      "outputs": []
    },
    {
      "cell_type": "markdown",
      "source": [
        "Please write a program using generator to print the even numbers between 0 and n in comma\n",
        "separated form while n is input by console."
      ],
      "metadata": {
        "id": "mTLviP5gwKrU"
      }
    },
    {
      "cell_type": "code",
      "source": [
        "n = int(input(\"Enter Number : \"))\n",
        "l = []\n",
        "for i in range(0 , n+1):\n",
        "  if i % 2 == 0:\n",
        "    l.append(i)\n",
        "print(l)"
      ],
      "metadata": {
        "colab": {
          "base_uri": "https://localhost:8080/"
        },
        "id": "Qaa9YhfTwLO8",
        "outputId": "42e7a408-3002-42b5-ba86-37f4e75fe74a"
      },
      "execution_count": 29,
      "outputs": [
        {
          "output_type": "stream",
          "name": "stdout",
          "text": [
            "Enter Number : 15\n",
            "[0, 2, 4, 6, 8, 10, 12, 14]\n"
          ]
        }
      ]
    },
    {
      "cell_type": "code",
      "source": [],
      "metadata": {
        "id": "pj59_OhC2zV8"
      },
      "execution_count": 40,
      "outputs": []
    },
    {
      "cell_type": "markdown",
      "source": [
        "Define a class named Shape and its subclass Square. The Square class has an init function\n",
        "which takes a length as argument. Both classes have a area function which can print the area\n",
        "of the shape where Shape&#39;s area is 0 by default."
      ],
      "metadata": {
        "id": "OfTr3iMN3b7R"
      }
    },
    {
      "cell_type": "code",
      "source": [
        "class Shape(object):\n",
        "  def __init__(self):\n",
        "    pass\n",
        "\n",
        "  def area(self):\n",
        "     return 0\n",
        "\n",
        "class Square(Shape):\n",
        "  def __init__(self,l):\n",
        "\n",
        "    \n",
        "    self.length = l\n",
        "\n",
        "  def area(self):\n",
        "    return self.length*self.length\n",
        "    \n",
        "\n",
        "\n",
        "obsquare = Square(9)\n",
        "\n",
        "\n",
        "obsquare.area()"
      ],
      "metadata": {
        "colab": {
          "base_uri": "https://localhost:8080/"
        },
        "id": "MSCe-uNY3cmb",
        "outputId": "e39aa4d1-3111-437a-a991-9a453cc93a1b"
      },
      "execution_count": 42,
      "outputs": [
        {
          "output_type": "execute_result",
          "data": {
            "text/plain": [
              "81"
            ]
          },
          "metadata": {},
          "execution_count": 42
        }
      ]
    },
    {
      "cell_type": "code",
      "source": [],
      "metadata": {
        "id": "cYkLzZxP3i8r"
      },
      "execution_count": null,
      "outputs": []
    }
  ]
}