{
  "nbformat": 4,
  "nbformat_minor": 0,
  "metadata": {
    "colab": {
      "provenance": []
    },
    "kernelspec": {
      "name": "python3",
      "display_name": "Python 3"
    },
    "language_info": {
      "name": "python"
    }
  },
  "cells": [
    {
      "cell_type": "markdown",
      "source": [
        "1. Write a Python Program to Find LCM?"
      ],
      "metadata": {
        "id": "P5svAt3dKQd0"
      }
    },
    {
      "cell_type": "code",
      "source": [
        "# Python Program to find the L.C.M. of two input number\n",
        "\n",
        "def compute_lcm(x, y):\n",
        "\n",
        "   # choose the greater number\n",
        "   if x > y:\n",
        "       greater = x\n",
        "   else:\n",
        "       greater = y\n",
        "\n",
        "   while(True):\n",
        "       if((greater % x == 0) and (greater % y == 0)):\n",
        "           lcm = greater\n",
        "           break\n",
        "       greater += 1\n",
        "\n",
        "   return lcm"
      ],
      "metadata": {
        "id": "37ttMfFVKQ4B"
      },
      "execution_count": 16,
      "outputs": []
    },
    {
      "cell_type": "code",
      "source": [
        "compute_lcm(24,15)"
      ],
      "metadata": {
        "colab": {
          "base_uri": "https://localhost:8080/"
        },
        "id": "2rUgeRMmKWvb",
        "outputId": "239ff924-f08e-4ce5-901c-eaa9ad0ed816"
      },
      "execution_count": 17,
      "outputs": [
        {
          "output_type": "execute_result",
          "data": {
            "text/plain": [
              "120"
            ]
          },
          "metadata": {},
          "execution_count": 17
        }
      ]
    },
    {
      "cell_type": "code",
      "source": [],
      "metadata": {
        "id": "ZQpps_qKKbjk"
      },
      "execution_count": null,
      "outputs": []
    },
    {
      "cell_type": "markdown",
      "source": [
        "2. Write a Python Program to Find HCF?"
      ],
      "metadata": {
        "id": "dS9IkKe9Kg49"
      }
    },
    {
      "cell_type": "code",
      "source": [
        "# Python program to find H.C.F of two numbers\n",
        "\n",
        "# define a function\n",
        "def compute_hcf(x, y):\n",
        "\n",
        "# choose the smaller number\n",
        "    if x > y:\n",
        "        smaller = y\n",
        "    else:\n",
        "        smaller = x\n",
        "    for i in range(1, smaller+1):\n",
        "        if((x % i == 0) and (y % i == 0)):\n",
        "            hcf = i \n",
        "    return hcf"
      ],
      "metadata": {
        "id": "BhrtqnKSKy9q"
      },
      "execution_count": 18,
      "outputs": []
    },
    {
      "cell_type": "code",
      "source": [
        "compute_hcf(24,18)"
      ],
      "metadata": {
        "colab": {
          "base_uri": "https://localhost:8080/"
        },
        "id": "pW3__j46Kztm",
        "outputId": "6c48e15e-daa4-4513-80ff-a837f736201b"
      },
      "execution_count": 19,
      "outputs": [
        {
          "output_type": "execute_result",
          "data": {
            "text/plain": [
              "6"
            ]
          },
          "metadata": {},
          "execution_count": 19
        }
      ]
    },
    {
      "cell_type": "code",
      "source": [],
      "metadata": {
        "id": "XwwUbMHaK4Ot"
      },
      "execution_count": null,
      "outputs": []
    },
    {
      "cell_type": "markdown",
      "source": [
        "3. Write a Python Program to Convert Decimal to Binary, Octal and Hexadecimal?"
      ],
      "metadata": {
        "id": "I1fN26AtK6F8"
      }
    },
    {
      "cell_type": "code",
      "source": [
        "# Python program to convert decimal into other number systems\n",
        "dec = 344\n",
        "\n",
        "print(\"The decimal value of\", dec, \"is:\")\n",
        "print(bin(dec), \"in binary.\")\n",
        "print(oct(dec), \"in octal.\")\n",
        "print(hex(dec), \"in hexadecimal.\")"
      ],
      "metadata": {
        "colab": {
          "base_uri": "https://localhost:8080/"
        },
        "id": "nYkoNSlLLXG3",
        "outputId": "e9ca2b1b-d287-49af-b23d-53279fedc455"
      },
      "execution_count": 23,
      "outputs": [
        {
          "output_type": "stream",
          "name": "stdout",
          "text": [
            "The decimal value of 344 is:\n",
            "0b101011000 in binary.\n",
            "0o530 in octal.\n",
            "0x158 in hexadecimal.\n"
          ]
        }
      ]
    },
    {
      "cell_type": "code",
      "source": [],
      "metadata": {
        "id": "5P9352r5Lzrl"
      },
      "execution_count": null,
      "outputs": []
    },
    {
      "cell_type": "markdown",
      "source": [
        "4. Write a Python Program To Find ASCII value of a character?"
      ],
      "metadata": {
        "id": "Hi_RXOHSMIDb"
      }
    },
    {
      "cell_type": "code",
      "source": [
        "c = 'a'\n",
        "print(\"The ASCII value of '\" + c + \"' is\", ord(c))"
      ],
      "metadata": {
        "colab": {
          "base_uri": "https://localhost:8080/"
        },
        "id": "GRwr3VVvMKl9",
        "outputId": "d494a8c2-3638-4bcc-a26a-4bb3daf40485"
      },
      "execution_count": 25,
      "outputs": [
        {
          "output_type": "stream",
          "name": "stdout",
          "text": [
            "The ASCII value of 'a' is 97\n"
          ]
        }
      ]
    },
    {
      "cell_type": "code",
      "source": [],
      "metadata": {
        "id": "qS77ATwxMRtG"
      },
      "execution_count": null,
      "outputs": []
    },
    {
      "cell_type": "markdown",
      "source": [
        "5. Write a Python Program to Make a Simple Calculator with 4 basic mathematical operations?"
      ],
      "metadata": {
        "id": "Lwv85F80MUHL"
      }
    },
    {
      "cell_type": "code",
      "source": [
        "x = int(input(\"Enter X Value:- \"))\n",
        "y = int(input(\"Enter Y value:- \" ))\n",
        "print(\"\"\" *********** Enetr Any one Option ***********\n",
        "                     := Addition Press:- 1\n",
        "                     := Subtraction Press:- 2\n",
        "                     := Multification Press:- 3\n",
        "                     := Division Press:- 4 \"\"\")\n",
        "\n",
        "ch = int(input(\"Enter Any Key: \"))\n",
        "\n",
        "if ch == 1:\n",
        "\n",
        "  print(f\"Addition is: {x+y}\")\n",
        "\n",
        "elif ch==2:\n",
        "\n",
        "  print(f\"Subtraction is: {x-y}\")\n",
        "\n",
        "elif ch==3:\n",
        "\n",
        "  print(f\"Multification is: {x*y}\")\n",
        "\n",
        "elif ch==4:\n",
        "  try:\n",
        "\n",
        "    print(f\"Division is: {x/y}\")\n",
        "  except Exception as e:\n",
        "    print(\"0 value Error \", e)\n",
        "\n",
        "else:\n",
        "  print(\"Press  Right Option \")\n",
        "\n"
      ],
      "metadata": {
        "colab": {
          "base_uri": "https://localhost:8080/"
        },
        "id": "qoTn4EVkMXno",
        "outputId": "4af36dac-822b-4aef-d472-c4ac1314353d"
      },
      "execution_count": 37,
      "outputs": [
        {
          "output_type": "stream",
          "name": "stdout",
          "text": [
            "Enter X Value:- 120\n",
            "Enter Y value:- 340\n",
            " *********** Enetr Any one Option ***********\n",
            "                     := Addition Press:- 1\n",
            "                     := Subtraction Press:- 2\n",
            "                     := Multification Press:- 3\n",
            "                     := Division Press:- 4 \n",
            "Enter Any Key: 4\n",
            "Division is: 0.35294117647058826\n"
          ]
        }
      ]
    },
    {
      "cell_type": "code",
      "source": [],
      "metadata": {
        "id": "87pIPXEeOygE"
      },
      "execution_count": null,
      "outputs": []
    }
  ]
}