{
  "nbformat": 4,
  "nbformat_minor": 0,
  "metadata": {
    "colab": {
      "provenance": []
    },
    "kernelspec": {
      "name": "python3",
      "display_name": "Python 3"
    },
    "language_info": {
      "name": "python"
    }
  },
  "cells": [
    {
      "cell_type": "markdown",
      "source": [
        "1. Write a Python program to Extract Unique values dictionary values?"
      ],
      "metadata": {
        "id": "NMR_riZlYM7Z"
      }
    },
    {
      "cell_type": "code",
      "source": [
        "my_dic = {\n",
        "    \"name\" : \"Anish\",\n",
        "    \"age\" : 24,\n",
        "    \"place\" : \"Ahmedabad\"\n",
        "}"
      ],
      "metadata": {
        "id": "DwvR_S-MYPOO"
      },
      "execution_count": 1,
      "outputs": []
    },
    {
      "cell_type": "code",
      "source": [
        "my_dic.values()"
      ],
      "metadata": {
        "colab": {
          "base_uri": "https://localhost:8080/"
        },
        "id": "pD2TIsexYimZ",
        "outputId": "22df71a9-d8b5-48d2-bd28-428111282c9f"
      },
      "execution_count": 2,
      "outputs": [
        {
          "output_type": "execute_result",
          "data": {
            "text/plain": [
              "dict_values(['Anish', 24, 'Ahmedabad'])"
            ]
          },
          "metadata": {},
          "execution_count": 2
        }
      ]
    },
    {
      "cell_type": "code",
      "source": [],
      "metadata": {
        "id": "j7iHMQBYYpqU"
      },
      "execution_count": null,
      "outputs": []
    },
    {
      "cell_type": "markdown",
      "source": [
        "2. Write a Python program to find the sum of all items in a dictionary?"
      ],
      "metadata": {
        "id": "zut2vkcCYrOj"
      }
    },
    {
      "cell_type": "code",
      "source": [
        "my_dic = {\n",
        "    \"a\" : 25 , \n",
        "    \"b\" : 28,\n",
        "    \"c\" : 30,\n",
        "    \"d\" : 35\n",
        "}\n",
        "\n",
        "sum = 0\n",
        "for i in my_dic.values():\n",
        "  sum = sum+i\n",
        "print(f\"Sum of All items : {sum}\")"
      ],
      "metadata": {
        "colab": {
          "base_uri": "https://localhost:8080/"
        },
        "id": "Sch4alLQYun8",
        "outputId": "72a4d45f-5223-4cc2-c7ed-9b67f117d7f0"
      },
      "execution_count": 5,
      "outputs": [
        {
          "output_type": "stream",
          "name": "stdout",
          "text": [
            "Sum of All items : 118\n"
          ]
        }
      ]
    },
    {
      "cell_type": "code",
      "source": [],
      "metadata": {
        "id": "0uVPt9mcZF6F"
      },
      "execution_count": null,
      "outputs": []
    },
    {
      "cell_type": "markdown",
      "source": [
        "3. Write a Python program to Merging two Dictionaries?"
      ],
      "metadata": {
        "id": "AuAvgXPoZXKD"
      }
    },
    {
      "cell_type": "code",
      "source": [
        "my_dic1 = { \n",
        "     \"a\": 1 ,\n",
        "    \"b\" : 2,\n",
        "    \"c\" : 3\n",
        "    \n",
        "}\n",
        "\n",
        "my_dic2 = {\n",
        "    \"a\" : 1,\n",
        "    \"b\" : 2,\n",
        "    \"d\" : 4\n",
        "}\n",
        "\n",
        "print({**my_dic1, **my_dic2})"
      ],
      "metadata": {
        "colab": {
          "base_uri": "https://localhost:8080/"
        },
        "id": "evChC0tFZZWE",
        "outputId": "edf1711f-558a-456d-bc92-4f68f0dfbfc3"
      },
      "execution_count": 12,
      "outputs": [
        {
          "output_type": "stream",
          "name": "stdout",
          "text": [
            "{'a': 1, 'b': 2, 'c': 3, 'd': 4}\n"
          ]
        }
      ]
    },
    {
      "cell_type": "code",
      "source": [],
      "metadata": {
        "id": "Vjk_CjNcbMQk"
      },
      "execution_count": null,
      "outputs": []
    },
    {
      "cell_type": "markdown",
      "source": [
        "4. Write a Python program to convert key-values list to flat dictionary?"
      ],
      "metadata": {
        "id": "NRZMCNx6bVFS"
      }
    },
    {
      "cell_type": "code",
      "source": [
        "my_dic = {\n",
        "    \"name\" : \"Anish\",\n",
        "    \"age\" : 24,\n",
        "    \"place\" : \"Ahmedabad\"\n",
        "}\n",
        "\n",
        "print(list(my_dic.keys()))\n",
        "print(list(my_dic.values()))"
      ],
      "metadata": {
        "colab": {
          "base_uri": "https://localhost:8080/"
        },
        "id": "NOAQbltnbtLs",
        "outputId": "504e02b3-8aac-49a4-9e76-51ebfed83501"
      },
      "execution_count": 16,
      "outputs": [
        {
          "output_type": "stream",
          "name": "stdout",
          "text": [
            "['name', 'age', 'place']\n",
            "['Anish', 24, 'Ahmedabad']\n"
          ]
        }
      ]
    },
    {
      "cell_type": "code",
      "source": [],
      "metadata": {
        "id": "lO8L0iHobx_t"
      },
      "execution_count": null,
      "outputs": []
    },
    {
      "cell_type": "markdown",
      "source": [
        "5. Write a Python program to insertion at the beginning in OrderedDict?"
      ],
      "metadata": {
        "id": "t8O2ubMqcN3C"
      }
    },
    {
      "cell_type": "code",
      "source": [
        " #Python code to demonstrate\n",
        "# insertion of items in beginning of ordered dict\n",
        "from collections import OrderedDict\n",
        " \n",
        "# initialising ordered_dict\n",
        "iniordered_dict = OrderedDict([('akshat', '1'), ('nikhil', '2')])\n",
        " \n",
        "# inserting items in starting of dict\n",
        "iniordered_dict.update({'manjeet':'3'})\n",
        "iniordered_dict.move_to_end('manjeet', last = False)\n",
        " \n",
        "# print result\n",
        "print (\"Resultant Dictionary : \"+str(iniordered_dict))"
      ],
      "metadata": {
        "colab": {
          "base_uri": "https://localhost:8080/"
        },
        "id": "uLKgCPgocork",
        "outputId": "d057ffa3-7a11-41b6-ca18-4d2980fc0e4e"
      },
      "execution_count": 23,
      "outputs": [
        {
          "output_type": "stream",
          "name": "stdout",
          "text": [
            "Resultant Dictionary : OrderedDict([('manjeet', '3'), ('akshat', '1'), ('nikhil', '2')])\n"
          ]
        }
      ]
    },
    {
      "cell_type": "code",
      "source": [],
      "metadata": {
        "id": "bT3cSuTtdJ4b"
      },
      "execution_count": null,
      "outputs": []
    },
    {
      "cell_type": "markdown",
      "source": [
        "6. Write a Python program to check order of character in string using OrderedDict()?"
      ],
      "metadata": {
        "id": "a5lSSwnpdQ7K"
      }
    },
    {
      "cell_type": "code",
      "source": [
        "from collections import OrderedDict \n",
        "  \n",
        "def checkOrder(input, pattern): \n",
        "      \n",
        "    # create empty OrderedDict \n",
        "    # output will be like {'a': None,'b': None, 'c': None} \n",
        "    dict = OrderedDict.fromkeys(input) \n",
        "  \n",
        "    # traverse generated OrderedDict parallel with \n",
        "    # pattern string to check if order of characters \n",
        "    # are same or not \n",
        "    ptrlen = 0\n",
        "    for key,value in dict.items(): \n",
        "        if (key == pattern[ptrlen]): \n",
        "            ptrlen = ptrlen + 1\n",
        "          \n",
        "        # check if we have traverse complete \n",
        "        # pattern string \n",
        "        if (ptrlen == (len(pattern))): \n",
        "            return 'true'\n",
        "  \n",
        "    # if we come out from for loop that means \n",
        "    # order was mismatched \n",
        "    return 'false'\n",
        "  \n",
        "# Driver program \n",
        "if __name__ == \"__main__\": \n",
        "    input = 'engineers rock'\n",
        "    pattern = 'er'\n",
        "    print (checkOrder(input,pattern)) "
      ],
      "metadata": {
        "colab": {
          "base_uri": "https://localhost:8080/"
        },
        "id": "z3wk0i4ddRXD",
        "outputId": "7f60e142-9248-4319-fa39-0818d5f0b73f"
      },
      "execution_count": 24,
      "outputs": [
        {
          "output_type": "stream",
          "name": "stdout",
          "text": [
            "true\n"
          ]
        }
      ]
    },
    {
      "cell_type": "code",
      "source": [],
      "metadata": {
        "id": "yLizq5qEdZ-8"
      },
      "execution_count": null,
      "outputs": []
    },
    {
      "cell_type": "markdown",
      "source": [
        "7. Write a Python program to sort Python Dictionaries by Key or Value?"
      ],
      "metadata": {
        "id": "XYOyI1Lxdb49"
      }
    },
    {
      "cell_type": "code",
      "source": [
        "myDict = {'ravi': 10, 'rajnish': 9,\n",
        "        'sanjeev': 15, 'yash': 2, 'suraj': 32}\n",
        " \n",
        "myKeys = list(myDict.keys())\n",
        "myKeys.sort()\n",
        "sorted_dict = {i: myDict[i] for i in myKeys}\n",
        " \n",
        "print(sorted_dict)"
      ],
      "metadata": {
        "colab": {
          "base_uri": "https://localhost:8080/"
        },
        "id": "agWubKS1dcsz",
        "outputId": "a962fc65-dce1-4ba8-8eb0-97bb419a3786"
      },
      "execution_count": 25,
      "outputs": [
        {
          "output_type": "stream",
          "name": "stdout",
          "text": [
            "{'rajnish': 9, 'ravi': 10, 'sanjeev': 15, 'suraj': 32, 'yash': 2}\n"
          ]
        }
      ]
    },
    {
      "cell_type": "code",
      "source": [],
      "metadata": {
        "id": "oFJeJLtNdh4z"
      },
      "execution_count": null,
      "outputs": []
    }
  ]
}