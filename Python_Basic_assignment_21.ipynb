{
  "nbformat": 4,
  "nbformat_minor": 0,
  "metadata": {
    "colab": {
      "provenance": []
    },
    "kernelspec": {
      "name": "python3",
      "display_name": "Python 3"
    },
    "language_info": {
      "name": "python"
    }
  },
  "cells": [
    {
      "cell_type": "markdown",
      "source": [
        "Question1\n",
        "Write a function that takes a list and a number as arguments. Add the number to the end of\n",
        "the list, then remove the first element of the list. The function should then return the updated\n",
        "list."
      ],
      "metadata": {
        "id": "8VNcNjfjeEm7"
      }
    },
    {
      "cell_type": "code",
      "source": [
        "lst = [5, 6, 7, 8, 9]\n",
        "def next_in_line(lst,num):\n",
        "    if len(lst) > 0 :\n",
        "        lst.append(num)\n",
        "        return lst[1:]\n",
        "    else:\n",
        "        print(\"'No list has been selected'\")"
      ],
      "metadata": {
        "id": "DXepQWb1eFGO"
      },
      "execution_count": 1,
      "outputs": []
    },
    {
      "cell_type": "code",
      "source": [
        "next_in_line([5, 6, 7, 8, 9], 1)"
      ],
      "metadata": {
        "colab": {
          "base_uri": "https://localhost:8080/"
        },
        "id": "RQBAi66ree0Q",
        "outputId": "2a331efd-6234-4914-a6ec-5f8d6a823939"
      },
      "execution_count": 2,
      "outputs": [
        {
          "output_type": "execute_result",
          "data": {
            "text/plain": [
              "[6, 7, 8, 9, 1]"
            ]
          },
          "metadata": {},
          "execution_count": 2
        }
      ]
    },
    {
      "cell_type": "code",
      "source": [],
      "metadata": {
        "id": "UgXNmEvheow_"
      },
      "execution_count": null,
      "outputs": []
    },
    {
      "cell_type": "markdown",
      "source": [
        "Question2\n",
        "Create the function that takes a list of dictionaries and returns the sum of people&#39;s budgets."
      ],
      "metadata": {
        "id": "haxWo7sGe1NW"
      }
    },
    {
      "cell_type": "code",
      "source": [
        "def get_budgets(listDict):\n",
        "    sum = 0\n",
        "    for dc in listDict:\n",
        "        for k,i in dc.items():\n",
        "            if k == 'budget':\n",
        "                sum = sum + i\n",
        "    return sum"
      ],
      "metadata": {
        "id": "0eNQjNtQe2FX"
      },
      "execution_count": 5,
      "outputs": []
    },
    {
      "cell_type": "code",
      "source": [
        "get_budgets([\n",
        "{ 'name': 'John', 'age': 21, 'budget': 23000 },\n",
        "{ 'name': 'Steve', 'age': 32, 'budget': 40000 },\n",
        "{ 'name': 'Martin', 'age': 16, 'budget': 2700 }\n",
        "])"
      ],
      "metadata": {
        "colab": {
          "base_uri": "https://localhost:8080/"
        },
        "id": "tpe9GZNWfFN-",
        "outputId": "175e57df-94ea-43a7-b181-dcb607b35c50"
      },
      "execution_count": 6,
      "outputs": [
        {
          "output_type": "execute_result",
          "data": {
            "text/plain": [
              "65700"
            ]
          },
          "metadata": {},
          "execution_count": 6
        }
      ]
    },
    {
      "cell_type": "code",
      "source": [],
      "metadata": {
        "id": "vtXWTx8bfI0G"
      },
      "execution_count": null,
      "outputs": []
    },
    {
      "cell_type": "markdown",
      "source": [
        "Question3\n",
        "Create a function that takes a string and returns a string with its letters in alphabetical order."
      ],
      "metadata": {
        "id": "wIMo_MmffYSt"
      }
    },
    {
      "cell_type": "code",
      "source": [
        "def alphabet_soup(str):\n",
        "    return ''.join(sorted(str))"
      ],
      "metadata": {
        "id": "BXhLpPi2fY8m"
      },
      "execution_count": 7,
      "outputs": []
    },
    {
      "cell_type": "code",
      "source": [
        "alphabet_soup('hello')\n"
      ],
      "metadata": {
        "colab": {
          "base_uri": "https://localhost:8080/",
          "height": 35
        },
        "id": "h5XGsggdfgEX",
        "outputId": "453a8f29-f83d-4ecd-c23d-18d709bb1f0e"
      },
      "execution_count": 8,
      "outputs": [
        {
          "output_type": "execute_result",
          "data": {
            "text/plain": [
              "'ehllo'"
            ],
            "application/vnd.google.colaboratory.intrinsic+json": {
              "type": "string"
            }
          },
          "metadata": {},
          "execution_count": 8
        }
      ]
    },
    {
      "cell_type": "code",
      "source": [],
      "metadata": {
        "id": "NQjApcWofitf"
      },
      "execution_count": null,
      "outputs": []
    },
    {
      "cell_type": "markdown",
      "source": [
        "Question4\n",
        "Suppose that you invest $10,000 for 10 years at an interest rate of 6% compounded monthly.\n",
        "What will be the value of your investment at the end of the 10 year period?\n",
        "Create a function that accepts the principal p, the term in years t, the interest rate r, and the\n",
        "number of compounding periods per year n. The function returns the value at the end of term\n",
        "rounded to the nearest cent.\n",
        "For the example above:\n",
        "compound_interest(10000, 10, 0.06, 12) ➞ 18193.97\n",
        "Note that the interest rate is given as a decimal and n=12 because with monthly compounding\n",
        "there are 12 periods per year. Compounding can also be done annually, quarterly, weekly, or\n",
        "daily."
      ],
      "metadata": {
        "id": "6MC8n6XIftPd"
      }
    },
    {
      "cell_type": "code",
      "source": [
        "\n",
        "def compound_interest(amt, years, intrest, compPeriod):\n",
        "    future_value = amt *(1 + (intrest/compPeriod)) ** (years * compPeriod)\n",
        "    return round(future_value,2)\n"
      ],
      "metadata": {
        "id": "aWN6zZFnfuNH"
      },
      "execution_count": 9,
      "outputs": []
    },
    {
      "cell_type": "code",
      "source": [
        "compound_interest(100, 1, 0.05, 1)"
      ],
      "metadata": {
        "colab": {
          "base_uri": "https://localhost:8080/"
        },
        "id": "kmEd_dSVgEvY",
        "outputId": "1e44ce12-b0bb-4127-c1f7-6810090f9422"
      },
      "execution_count": 10,
      "outputs": [
        {
          "output_type": "execute_result",
          "data": {
            "text/plain": [
              "105.0"
            ]
          },
          "metadata": {},
          "execution_count": 10
        }
      ]
    },
    {
      "cell_type": "code",
      "source": [],
      "metadata": {
        "id": "VA0R8-XxgHZX"
      },
      "execution_count": null,
      "outputs": []
    },
    {
      "cell_type": "markdown",
      "source": [
        "Question5\n",
        "Write a function that takes a list of elements and returns only the integers.\n",
        "Examples\n",
        "return_only_integer([9, 2, &quot;space&quot;, &quot;car&quot;, &quot;lion&quot;, 16]) ➞ [9, 2, 16]\n",
        "return_only_integer([&quot;hello&quot;, 81, &quot;basketball&quot;, 123, &quot;fox&quot;]) ➞ [81, 123]\n",
        "return_only_integer([10, &quot;121&quot;, 56, 20, &quot;car&quot;, 3, &quot;lion&quot;]) ➞ [10, 56, 20,\n",
        "3]\n",
        "return_only_integer([&quot;String&quot;, True, 3.3, 1]) ➞ [1]"
      ],
      "metadata": {
        "id": "pii8VNQYgNlX"
      }
    },
    {
      "cell_type": "code",
      "source": [
        "def find_int(l):\n",
        "  l1 = []\n",
        "  for i in l:\n",
        "    if type(i) == int:\n",
        "      l1.append(i)\n",
        "  print(l1)"
      ],
      "metadata": {
        "id": "Jjhafz2dgOIH"
      },
      "execution_count": 11,
      "outputs": []
    },
    {
      "cell_type": "code",
      "source": [
        "find_int([\"hello\" , 81 , \"basketball\" , 123 , \"fox\" , 25 ,98 , \"car\"])"
      ],
      "metadata": {
        "colab": {
          "base_uri": "https://localhost:8080/"
        },
        "id": "1YH2w0gggbgx",
        "outputId": "c53ae259-a2cf-461b-c2ae-990d98083bfb"
      },
      "execution_count": 12,
      "outputs": [
        {
          "output_type": "stream",
          "name": "stdout",
          "text": [
            "[81, 123, 25, 98]\n"
          ]
        }
      ]
    },
    {
      "cell_type": "code",
      "source": [],
      "metadata": {
        "id": "fJDUDQkwgn1_"
      },
      "execution_count": null,
      "outputs": []
    }
  ]
}