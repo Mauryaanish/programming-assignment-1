{
  "nbformat": 4,
  "nbformat_minor": 0,
  "metadata": {
    "colab": {
      "provenance": []
    },
    "kernelspec": {
      "name": "python3",
      "display_name": "Python 3"
    },
    "language_info": {
      "name": "python"
    }
  },
  "cells": [
    {
      "cell_type": "markdown",
      "source": [
        "1. Write a Python Program to Find the Factorial of a Number?"
      ],
      "metadata": {
        "id": "T7Aq8muj-Pg2"
      }
    },
    {
      "cell_type": "code",
      "source": [
        "# take user input\n",
        "n = int(input(\"Enter Number:- \")) \n",
        "mul = 1\n",
        "# When Number is negative  and Zero\n",
        "if n<0:\n",
        "  print(\"Sorry Not Posible Factorial Number is Negative\")\n",
        "\n",
        "elif n == 0:\n",
        "  print(\"0 Fectorial is 0 and 1 \")\n",
        "\n",
        "else:\n",
        "  for i in range(1 ,n+1):\n",
        "    mul = mul*i\n",
        "  print(f\"The Factorial of {n} is {mul}\")"
      ],
      "metadata": {
        "colab": {
          "base_uri": "https://localhost:8080/"
        },
        "id": "Y4eN5Wc2-QM7",
        "outputId": "e228afbb-10eb-4342-b71e-f68adfd489a8"
      },
      "execution_count": null,
      "outputs": [
        {
          "output_type": "stream",
          "name": "stdout",
          "text": [
            "Enter Number:- 3\n",
            "The Factorial of 3 is 6\n"
          ]
        }
      ]
    },
    {
      "cell_type": "code",
      "source": [],
      "metadata": {
        "id": "E1dxc_gm-z1Q"
      },
      "execution_count": null,
      "outputs": []
    },
    {
      "cell_type": "markdown",
      "source": [
        "2. Write a Python Program to Display the multiplication Table?\n",
        "\n",
        "---\n",
        "\n"
      ],
      "metadata": {
        "id": "fz2n-VT1CaA2"
      }
    },
    {
      "cell_type": "code",
      "source": [
        "# take user input\n",
        "\n",
        "n = int(input(\"Display multiplication table of? \"))\n",
        "i = 1\n",
        "#use while loop\n",
        "while i<11:\n",
        "  print(n ,\"*\" ,i , \"=\" , n*i)\n",
        "  i = i+1\n"
      ],
      "metadata": {
        "colab": {
          "base_uri": "https://localhost:8080/"
        },
        "id": "sHj5xQNoCbJU",
        "outputId": "46ef4c97-e426-419f-d81e-5fa67e8cd591"
      },
      "execution_count": null,
      "outputs": [
        {
          "output_type": "stream",
          "name": "stdout",
          "text": [
            "Display multiplication table of? 8\n",
            "8 * 1 = 8\n",
            "8 * 2 = 16\n",
            "8 * 3 = 24\n",
            "8 * 4 = 32\n",
            "8 * 5 = 40\n",
            "8 * 6 = 48\n",
            "8 * 7 = 56\n",
            "8 * 8 = 64\n",
            "8 * 9 = 72\n",
            "8 * 10 = 80\n"
          ]
        }
      ]
    },
    {
      "cell_type": "code",
      "source": [],
      "metadata": {
        "id": "a09MoOHIC35Z"
      },
      "execution_count": null,
      "outputs": []
    },
    {
      "cell_type": "markdown",
      "source": [
        "3. Write a Python Program to Print the Fibonacci sequence?"
      ],
      "metadata": {
        "id": "qC_LheRLEc7E"
      }
    },
    {
      "cell_type": "code",
      "source": [
        "nterms = int(input(\"How many terms? \"))\n",
        "\n",
        "# first two terms\n",
        "n1, n2 = 0, 1\n",
        "count = 0\n",
        "\n",
        "# check if the number of terms is valid\n",
        "if nterms <= 0:\n",
        "   print(\"Please enter a positive integer\")\n",
        "# if there is only one term, return n1\n",
        "elif nterms == 1:\n",
        "   print(\"Fibonacci sequence upto\",nterms,\":\")\n",
        "   print(n1)\n",
        "# generate fibonacci sequence\n",
        "else:\n",
        "   print(\"Fibonacci sequence:\")\n",
        "   while count < nterms:\n",
        "       print(n1)\n",
        "       nth = n1 + n2\n",
        "       # update values\n",
        "       n1 = n2\n",
        "       n2 = nth\n",
        "       count += 1"
      ],
      "metadata": {
        "colab": {
          "base_uri": "https://localhost:8080/"
        },
        "id": "a3xsCGW5FmqP",
        "outputId": "2dc67c14-8456-4fc2-f1ed-bd356b0a96ba"
      },
      "execution_count": 1,
      "outputs": [
        {
          "output_type": "stream",
          "name": "stdout",
          "text": [
            "How many terms? 5\n",
            "Fibonacci sequence:\n",
            "0\n",
            "1\n",
            "1\n",
            "2\n",
            "3\n"
          ]
        }
      ]
    },
    {
      "cell_type": "code",
      "source": [],
      "metadata": {
        "id": "DQ8v5_4rFnLA"
      },
      "execution_count": null,
      "outputs": []
    },
    {
      "cell_type": "markdown",
      "source": [
        "5. Write a Python Program to Find Armstrong Number in an Interval?"
      ],
      "metadata": {
        "id": "iedv5vaQGQl2"
      }
    },
    {
      "cell_type": "code",
      "source": [
        "lower = 100\n",
        "upper = 2000\n",
        "\n",
        "for num in range(lower, upper + 1):\n",
        "\n",
        "   # order of number\n",
        "   order = len(str(num))\n",
        "    \n",
        "   # initialize sum\n",
        "   sum = 0\n",
        "\n",
        "   temp = num\n",
        "   while temp > 0:\n",
        "       digit = temp % 10\n",
        "       sum += digit ** order\n",
        "       temp //= 10\n",
        "\n",
        "   if num == sum:\n",
        "       print(num)"
      ],
      "metadata": {
        "colab": {
          "base_uri": "https://localhost:8080/"
        },
        "id": "Np8uVks9GRNH",
        "outputId": "3a3f2266-0cd8-4142-9397-574a2acdc713"
      },
      "execution_count": 2,
      "outputs": [
        {
          "output_type": "stream",
          "name": "stdout",
          "text": [
            "153\n",
            "370\n",
            "371\n",
            "407\n",
            "1634\n"
          ]
        }
      ]
    },
    {
      "cell_type": "code",
      "source": [],
      "metadata": {
        "id": "dWIVY20IGjZX"
      },
      "execution_count": null,
      "outputs": []
    },
    {
      "cell_type": "markdown",
      "source": [
        "6. Write a Python Program to Find the Sum of Natural Numbers?"
      ],
      "metadata": {
        "id": "t1TR2TAUGksh"
      }
    },
    {
      "cell_type": "code",
      "source": [
        "num = int(input(\"Enter Number: \"))\n",
        "sum = 0\n",
        "if num < 0:\n",
        "  print(\"Enter Positive Number: \")\n",
        "\n",
        "else:\n",
        "  for i in range(num+1):\n",
        "    sum = sum+i\n",
        "  print(f\"Natural Number Sum :- {sum}\")"
      ],
      "metadata": {
        "colab": {
          "base_uri": "https://localhost:8080/"
        },
        "id": "eZjk9x8QGont",
        "outputId": "eefa2f88-faf8-4e94-d60f-aee0e3783fbe"
      },
      "execution_count": 15,
      "outputs": [
        {
          "output_type": "stream",
          "name": "stdout",
          "text": [
            "Enter Number: 16\n",
            "Natural Number Sum :- 136\n"
          ]
        }
      ]
    },
    {
      "cell_type": "code",
      "source": [],
      "metadata": {
        "id": "oYxJYo5VHBUf"
      },
      "execution_count": null,
      "outputs": []
    }
  ]
}