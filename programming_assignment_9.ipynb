{
  "nbformat": 4,
  "nbformat_minor": 0,
  "metadata": {
    "colab": {
      "provenance": []
    },
    "kernelspec": {
      "name": "python3",
      "display_name": "Python 3"
    },
    "language_info": {
      "name": "python"
    }
  },
  "cells": [
    {
      "cell_type": "markdown",
      "source": [
        "1. Write a Python program to check if the given number is a Disarium Number?"
      ],
      "metadata": {
        "id": "HikF0EFvZGLQ"
      }
    },
    {
      "cell_type": "code",
      "source": [
        "def is_disarium(num):\n",
        "    temp = 0\n",
        "    for i in range(len(str(num))):\n",
        "        temp += int(str(num)[i]) ** (i + 1)\n",
        "    return temp == num"
      ],
      "metadata": {
        "id": "0UJyLI6nZGzI"
      },
      "execution_count": 86,
      "outputs": []
    },
    {
      "cell_type": "code",
      "source": [
        "is_disarium(25)"
      ],
      "metadata": {
        "colab": {
          "base_uri": "https://localhost:8080/"
        },
        "id": "2qcJqivdZrc0",
        "outputId": "eb497408-1338-46b3-ca65-6089783ca1d5"
      },
      "execution_count": 88,
      "outputs": [
        {
          "output_type": "execute_result",
          "data": {
            "text/plain": [
              "False"
            ]
          },
          "metadata": {},
          "execution_count": 88
        }
      ]
    },
    {
      "cell_type": "code",
      "source": [],
      "metadata": {
        "id": "r_UKWAgwZyC9"
      },
      "execution_count": null,
      "outputs": []
    },
    {
      "cell_type": "markdown",
      "source": [
        "2. Write a Python program to print all disarium numbers between 1 to 100?"
      ],
      "metadata": {
        "id": "rUovxUXEaEGy"
      }
    },
    {
      "cell_type": "code",
      "source": [
        "#calculateLength() will count the digits present in a number    \n",
        "def calculateLength(n):    \n",
        "    length = 0;    \n",
        "    while(n != 0):    \n",
        "        length = length + 1;    \n",
        "        n = n//10;    \n",
        "    return length;    \n",
        "     \n",
        "#sumOfDigits() will calculates the sum of digits powered with their respective position    \n",
        "def sumOfDigits(num):    \n",
        "    rem = sum = 0;    \n",
        "    len = calculateLength(num);    \n",
        "        \n",
        "    while(num > 0):    \n",
        "        rem = num%10;    \n",
        "        sum = sum + (rem**len);    \n",
        "        num = num//10;    \n",
        "        len = len - 1;    \n",
        "    return sum;    \n",
        "      \n",
        "result = 0;    \n",
        "     \n",
        "#Displays all disarium numbers between 1 and 100    \n",
        "print(\"Disarium numbers between 1 and 100 are\");    \n",
        "for i in range(1, 101):    \n",
        "    result = sumOfDigits(i);    \n",
        "        \n",
        "    if(result == i):    \n",
        "        print(i),    "
      ],
      "metadata": {
        "colab": {
          "base_uri": "https://localhost:8080/"
        },
        "id": "7b5NHZn-aoUE",
        "outputId": "b9ba9c22-38d3-4e62-ae01-8f0dae12d4f5"
      },
      "execution_count": 96,
      "outputs": [
        {
          "output_type": "stream",
          "name": "stdout",
          "text": [
            "Disarium numbers between 1 and 100 are\n",
            "1\n",
            "2\n",
            "3\n",
            "4\n",
            "5\n",
            "6\n",
            "7\n",
            "8\n",
            "9\n",
            "89\n"
          ]
        }
      ]
    },
    {
      "cell_type": "code",
      "source": [],
      "metadata": {
        "id": "H5nh89DObnbC"
      },
      "execution_count": null,
      "outputs": []
    },
    {
      "cell_type": "markdown",
      "source": [
        "3. Write a Python program to check if the given number is Happy Number?"
      ],
      "metadata": {
        "id": "iIR9btwFb5ei"
      }
    },
    {
      "cell_type": "code",
      "source": [
        "def isHappyNumber(num):    \n",
        "    rem = sum = 0;    \n",
        "        \n",
        "    #Calculates the sum of squares of digits    \n",
        "    while(num > 0):    \n",
        "        rem = num%10;    \n",
        "        sum = sum + (rem*rem);    \n",
        "        num = num//10;    \n",
        "    return sum;    \n",
        "        \n",
        "num = 80;    \n",
        "result = num;    \n",
        "     \n",
        "while(result != 1 and result != 4):    \n",
        "    result = isHappyNumber(result);    \n",
        "     \n",
        "#Happy number always ends with 1    \n",
        "if(result == 1):    \n",
        "    print(str(num) + \" is a happy number\");    \n",
        "#Unhappy number ends in a cycle of repeating numbers which contain 4    \n",
        "elif(result == 4):    \n",
        "    print(str(num) + \" is not a happy number\"); "
      ],
      "metadata": {
        "colab": {
          "base_uri": "https://localhost:8080/"
        },
        "id": "mg2HvKm6b5-d",
        "outputId": "c92a951e-312e-42f7-f4e7-2aaf3ece8a53"
      },
      "execution_count": 98,
      "outputs": [
        {
          "output_type": "stream",
          "name": "stdout",
          "text": [
            "80 is not a happy number\n"
          ]
        }
      ]
    },
    {
      "cell_type": "code",
      "source": [],
      "metadata": {
        "id": "AzH3nqegcN6_"
      },
      "execution_count": null,
      "outputs": []
    },
    {
      "cell_type": "markdown",
      "source": [
        "4. Write a Python program to print all happy numbers between 1 and 100?"
      ],
      "metadata": {
        "id": "FCMEdiSKcVM5"
      }
    },
    {
      "cell_type": "code",
      "source": [
        "def isHappyNumber(num):    \n",
        "    rem = sum = 0;    \n",
        "        \n",
        "    #Calculates the sum of squares of digits    \n",
        "    while(num > 0):    \n",
        "        rem = num%10;    \n",
        "        sum = sum + (rem*rem);    \n",
        "        num = num//10;    \n",
        "    return sum;    \n",
        "            \n",
        "#Displays all happy numbers between 1 and 100    \n",
        "print(\"List of happy numbers between 1 and 100: \");    \n",
        "for i in range(1, 101):    \n",
        "    result = i;    \n",
        "        \n",
        "    #Happy number always ends with 1 and     \n",
        "    #unhappy number ends in a cycle of repeating numbers which contains 4    \n",
        "    while(result != 1 and result != 4):    \n",
        "        result = isHappyNumber(result);    \n",
        "        \n",
        "    if(result == 1):    \n",
        "        print(i),    \n",
        "        print(\" \"),    "
      ],
      "metadata": {
        "colab": {
          "base_uri": "https://localhost:8080/"
        },
        "id": "WyeHuleZcV2p",
        "outputId": "96d1f9f9-4af1-4908-9c64-2be499c1099d"
      },
      "execution_count": 99,
      "outputs": [
        {
          "output_type": "stream",
          "name": "stdout",
          "text": [
            "List of happy numbers between 1 and 100: \n",
            "1\n",
            " \n",
            "7\n",
            " \n",
            "10\n",
            " \n",
            "13\n",
            " \n",
            "19\n",
            " \n",
            "23\n",
            " \n",
            "28\n",
            " \n",
            "31\n",
            " \n",
            "32\n",
            " \n",
            "44\n",
            " \n",
            "49\n",
            " \n",
            "68\n",
            " \n",
            "70\n",
            " \n",
            "79\n",
            " \n",
            "82\n",
            " \n",
            "86\n",
            " \n",
            "91\n",
            " \n",
            "94\n",
            " \n",
            "97\n",
            " \n",
            "100\n",
            " \n"
          ]
        }
      ]
    },
    {
      "cell_type": "code",
      "source": [],
      "metadata": {
        "id": "USfYxf0Bcsho"
      },
      "execution_count": null,
      "outputs": []
    },
    {
      "cell_type": "markdown",
      "source": [
        "5. Write a Python program to determine whether the given number is a Harshad Number?"
      ],
      "metadata": {
        "id": "kzmOu3zccyKh"
      }
    },
    {
      "cell_type": "code",
      "source": [
        "def checkHarshad(n):\n",
        "   \n",
        "    # Converting integer to string\n",
        "    st = str(n)\n",
        "     \n",
        "    # Initialising sum to 0\n",
        "    sum = 0\n",
        "    length = len(st)\n",
        " \n",
        "    # Traversing through the string\n",
        "    for i in st:\n",
        " \n",
        "        # Converting character to int\n",
        "        sum = sum + int(i)\n",
        "         \n",
        "    # Comparing number and sum\n",
        "    if (n % sum == 0):\n",
        "        return \"Yes\"\n",
        "    else:\n",
        "        return \"No\"\n",
        " \n",
        " \n",
        "# Driver Code\n",
        "number = 18\n",
        "# passing this number to get result function\n",
        "print(checkHarshad(number))\n"
      ],
      "metadata": {
        "colab": {
          "base_uri": "https://localhost:8080/"
        },
        "id": "lKeIsMDkcyz1",
        "outputId": "2c887710-3edf-4a1c-e0a9-6c85af891b8c"
      },
      "execution_count": 100,
      "outputs": [
        {
          "output_type": "stream",
          "name": "stdout",
          "text": [
            "Yes\n"
          ]
        }
      ]
    },
    {
      "cell_type": "code",
      "source": [],
      "metadata": {
        "id": "5pIUNkX5dBrU"
      },
      "execution_count": null,
      "outputs": []
    },
    {
      "cell_type": "markdown",
      "source": [
        "6. Write a Python program to print all pronic numbers between 1 and 100?"
      ],
      "metadata": {
        "id": "H8DoT47cdF-o"
      }
    },
    {
      "cell_type": "code",
      "source": [
        "def isPronicNumber(num):    \n",
        "    flag = False;    \n",
        "        \n",
        "    for j in range(1, num+1):    \n",
        "        #Checks for pronic number by multiplying consecutive numbers    \n",
        "        if((j*(j+1)) == num):    \n",
        "            flag = True;    \n",
        "            break;    \n",
        "    return flag;    \n",
        "     \n",
        "#Displays pronic numbers between 1 and 100    \n",
        "print(\"Pronic numbers between 1 and 100: \");    \n",
        "for i in range(1, 101):    \n",
        "    if(isPronicNumber(i)):    \n",
        "        print(i),    \n",
        "        print(\" \"),    "
      ],
      "metadata": {
        "colab": {
          "base_uri": "https://localhost:8080/"
        },
        "id": "hlH0vtmkdGlQ",
        "outputId": "c9857163-4302-47dc-9211-51f8b9ebecef"
      },
      "execution_count": 101,
      "outputs": [
        {
          "output_type": "stream",
          "name": "stdout",
          "text": [
            "Pronic numbers between 1 and 100: \n",
            "2\n",
            " \n",
            "6\n",
            " \n",
            "12\n",
            " \n",
            "20\n",
            " \n",
            "30\n",
            " \n",
            "42\n",
            " \n",
            "56\n",
            " \n",
            "72\n",
            " \n",
            "90\n",
            " \n"
          ]
        }
      ]
    },
    {
      "cell_type": "code",
      "source": [],
      "metadata": {
        "id": "rsH-bJCpdOaq"
      },
      "execution_count": null,
      "outputs": []
    }
  ]
}