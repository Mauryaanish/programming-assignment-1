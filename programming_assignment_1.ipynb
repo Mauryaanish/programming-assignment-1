{
  "nbformat": 4,
  "nbformat_minor": 0,
  "metadata": {
    "colab": {
      "provenance": []
    },
    "kernelspec": {
      "name": "python3",
      "display_name": "Python 3"
    },
    "language_info": {
      "name": "python"
    }
  },
  "cells": [
    {
      "cell_type": "code",
      "execution_count": null,
      "metadata": {
        "id": "xYtG0OQ0m6vx"
      },
      "outputs": [],
      "source": []
    },
    {
      "cell_type": "markdown",
      "source": [
        "1. Write a Python program to print &quot;Hello Python&quot;?"
      ],
      "metadata": {
        "id": "x3UQ6nwmnQZp"
      }
    },
    {
      "cell_type": "code",
      "source": [
        "test = \"Hello Python\"\n",
        "print(test)"
      ],
      "metadata": {
        "colab": {
          "base_uri": "https://localhost:8080/"
        },
        "id": "cezZ89YxnRPt",
        "outputId": "fca20711-7789-4bbc-d382-b8cc981cc368"
      },
      "execution_count": 1,
      "outputs": [
        {
          "output_type": "stream",
          "name": "stdout",
          "text": [
            "Hello Python\n"
          ]
        }
      ]
    },
    {
      "cell_type": "code",
      "source": [],
      "metadata": {
        "id": "vFFAQMd5nei4"
      },
      "execution_count": null,
      "outputs": []
    },
    {
      "cell_type": "markdown",
      "source": [
        "2. Write a Python program to do arithmetical operations addition and division.?"
      ],
      "metadata": {
        "id": "zAaXqW8OnqK0"
      }
    },
    {
      "cell_type": "code",
      "source": [
        "a = int(input(\"Enter Value of A:- \")) # user input \n",
        "b = int(input(\"Enter Value of B:- \")) #user Input\n",
        "\n",
        "# Addition Operation\n",
        "\n",
        "add = a+b\n",
        "print(f\"Addition A And B:- {add}\")\n",
        "\n",
        "# division Operation\n",
        "\n",
        "div = a/b\n",
        "print(f\"Division A And B:- {div}\")"
      ],
      "metadata": {
        "colab": {
          "base_uri": "https://localhost:8080/"
        },
        "id": "EIRdJJWGnq69",
        "outputId": "d6b53aa9-42c6-456e-d740-d7c02c53a228"
      },
      "execution_count": 3,
      "outputs": [
        {
          "output_type": "stream",
          "name": "stdout",
          "text": [
            "Enter Value of A:- 40\n",
            "Enter Value of B:- 30\n",
            "Addition A And B:- 70\n",
            "Division A And B:- 1.3333333333333333\n"
          ]
        }
      ]
    },
    {
      "cell_type": "code",
      "source": [],
      "metadata": {
        "id": "sUNbBCY0oJkR"
      },
      "execution_count": null,
      "outputs": []
    },
    {
      "cell_type": "markdown",
      "source": [
        "3. Write a Python program to find the area of a triangle?"
      ],
      "metadata": {
        "id": "mSdEu-skowHq"
      }
    },
    {
      "cell_type": "code",
      "source": [
        "b = int(input(\"Enter Base Value:- \")) # b is Base\n",
        "h = int(input(\"Enter Height Value:- \")) # h is Height\n",
        "\n",
        "area = (h*b)/2  # triangle area find formuls is :- area = (h*b)/2\n",
        "\n",
        "print(f\"Trangle Area is:- {area} \")"
      ],
      "metadata": {
        "colab": {
          "base_uri": "https://localhost:8080/"
        },
        "id": "JLiF4mnzpCN_",
        "outputId": "660a9cfb-564b-4692-ee25-2b4f31dfff6d"
      },
      "execution_count": 4,
      "outputs": [
        {
          "output_type": "stream",
          "name": "stdout",
          "text": [
            "Enter Base Value:- 3\n",
            "Enter Height Value:- 2\n",
            "Trangle Area is:- 3.0 \n"
          ]
        }
      ]
    },
    {
      "cell_type": "code",
      "source": [],
      "metadata": {
        "id": "98OHKg3eqDiV"
      },
      "execution_count": null,
      "outputs": []
    },
    {
      "cell_type": "markdown",
      "source": [
        "4. Write a Python program to swap two variables?"
      ],
      "metadata": {
        "id": "o_tyc7oUqOCV"
      }
    },
    {
      "cell_type": "code",
      "source": [
        "a = \"anish\"\n",
        "b = \"manish\"\n",
        "\n",
        "# swap two variables\n",
        "a , b = b , a\n",
        "\n",
        "print(a)\n",
        "print(b)"
      ],
      "metadata": {
        "colab": {
          "base_uri": "https://localhost:8080/"
        },
        "id": "dIFmMqN9qO8H",
        "outputId": "47b0936f-2a6d-4d28-c44f-275fd5bfafc3"
      },
      "execution_count": 10,
      "outputs": [
        {
          "output_type": "stream",
          "name": "stdout",
          "text": [
            "manish\n",
            "anish\n"
          ]
        }
      ]
    },
    {
      "cell_type": "code",
      "source": [],
      "metadata": {
        "id": "JqMYWmDTqiO2"
      },
      "execution_count": null,
      "outputs": []
    },
    {
      "cell_type": "markdown",
      "source": [
        "5. Write a Python program to generate a random number?"
      ],
      "metadata": {
        "id": "lrpC_C9jqy3-"
      }
    },
    {
      "cell_type": "code",
      "source": [
        "# importing the random module\n",
        "import random\n",
        "\n",
        "print(random.randint(0,9))"
      ],
      "metadata": {
        "colab": {
          "base_uri": "https://localhost:8080/"
        },
        "id": "LSYV-qodqzzk",
        "outputId": "f94c09a7-9785-441b-fa64-8481f1753070"
      },
      "execution_count": 13,
      "outputs": [
        {
          "output_type": "stream",
          "name": "stdout",
          "text": [
            "5\n"
          ]
        }
      ]
    },
    {
      "cell_type": "code",
      "source": [],
      "metadata": {
        "id": "8gVRxNprq-tY"
      },
      "execution_count": null,
      "outputs": []
    }
  ]
}