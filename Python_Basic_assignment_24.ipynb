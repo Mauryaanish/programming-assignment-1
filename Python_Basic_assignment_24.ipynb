{
  "nbformat": 4,
  "nbformat_minor": 0,
  "metadata": {
    "colab": {
      "provenance": []
    },
    "kernelspec": {
      "name": "python3",
      "display_name": "Python 3"
    },
    "language_info": {
      "name": "python"
    }
  },
  "cells": [
    {
      "cell_type": "markdown",
      "source": [
        "Question1\n",
        "Create a function that takes an integer and returns a list from 1 to the given number, where:\n",
        "1. If the number can be divided evenly by 4, amplify it by 10 (i.e. return 10 times the\n",
        "number).\n",
        "2. If the number cannot be divided evenly by 4, simply return the number.\n",
        "Examples\n",
        "amplify(4) ➞ [1, 2, 3, 40]\n",
        "amplify(3) ➞ [1, 2, 3]\n",
        "amplify(25) ➞ [1, 2, 3, 40, 5, 6, 7, 80, 9, 10, 11, 120, 13, 14, 15, 160,\n",
        "17, 18, 19, 200, 21, 22, 23, 240, 25]"
      ],
      "metadata": {
        "id": "DsWzBr_B0oWZ"
      }
    },
    {
      "cell_type": "code",
      "source": [
        "def amplify(n):\n",
        "    return [i*10 if i % 4 == 0 else i for i in range(1,n+1) ]"
      ],
      "metadata": {
        "id": "6HUnNe7m1Bqz"
      },
      "execution_count": 90,
      "outputs": []
    },
    {
      "cell_type": "code",
      "source": [
        "amplify(4)"
      ],
      "metadata": {
        "colab": {
          "base_uri": "https://localhost:8080/"
        },
        "id": "5Of1F3-31zJr",
        "outputId": "71608e83-a0e2-4b24-d0f2-0c0149088140"
      },
      "execution_count": 91,
      "outputs": [
        {
          "output_type": "execute_result",
          "data": {
            "text/plain": [
              "[1, 2, 3, 40]"
            ]
          },
          "metadata": {},
          "execution_count": 91
        }
      ]
    },
    {
      "cell_type": "code",
      "source": [
        "amplify(25)"
      ],
      "metadata": {
        "colab": {
          "base_uri": "https://localhost:8080/"
        },
        "id": "qGs_7u9j11Hi",
        "outputId": "d19c24a9-c7b6-4915-85c8-ae713148f042"
      },
      "execution_count": 94,
      "outputs": [
        {
          "output_type": "execute_result",
          "data": {
            "text/plain": [
              "[1,\n",
              " 2,\n",
              " 3,\n",
              " 40,\n",
              " 5,\n",
              " 6,\n",
              " 7,\n",
              " 80,\n",
              " 9,\n",
              " 10,\n",
              " 11,\n",
              " 120,\n",
              " 13,\n",
              " 14,\n",
              " 15,\n",
              " 160,\n",
              " 17,\n",
              " 18,\n",
              " 19,\n",
              " 200,\n",
              " 21,\n",
              " 22,\n",
              " 23,\n",
              " 240,\n",
              " 25]"
            ]
          },
          "metadata": {},
          "execution_count": 94
        }
      ]
    },
    {
      "cell_type": "code",
      "source": [],
      "metadata": {
        "id": "uY2SToBh17Pq"
      },
      "execution_count": null,
      "outputs": []
    },
    {
      "cell_type": "markdown",
      "source": [
        "Question2\n",
        "Create a function that takes a list of numbers and return the number that&#39;s unique.\n",
        "Examples\n",
        "unique([3, 3, 3, 7, 3, 3]) ➞ 7\n",
        "unique([0, 0, 0.77, 0, 0]) ➞ 0.77\n",
        "unique([0, 1, 1, 1, 1, 1, 1, 1]) ➞ 0"
      ],
      "metadata": {
        "id": "x_PfeGV82V9Z"
      }
    },
    {
      "cell_type": "code",
      "source": [
        "def unique(l):\n",
        "  for i in l:\n",
        "    if l.count(i) == 1:\n",
        "      return i"
      ],
      "metadata": {
        "id": "I8QqM4ea2WeS"
      },
      "execution_count": 103,
      "outputs": []
    },
    {
      "cell_type": "code",
      "source": [
        "unique([3, 3, 3, 7, 3, 3]) "
      ],
      "metadata": {
        "colab": {
          "base_uri": "https://localhost:8080/"
        },
        "id": "rjXo41go2fTi",
        "outputId": "cca90598-f45c-4f4b-b625-e408a8250605"
      },
      "execution_count": 104,
      "outputs": [
        {
          "output_type": "execute_result",
          "data": {
            "text/plain": [
              "7"
            ]
          },
          "metadata": {},
          "execution_count": 104
        }
      ]
    },
    {
      "cell_type": "code",
      "source": [
        "unique([0, 1, 1, 1, 1, 1, 1, 1])"
      ],
      "metadata": {
        "colab": {
          "base_uri": "https://localhost:8080/"
        },
        "id": "9It-clWF2hu7",
        "outputId": "1c8c416c-716a-49df-89c0-e8f3081cad4c"
      },
      "execution_count": 105,
      "outputs": [
        {
          "output_type": "execute_result",
          "data": {
            "text/plain": [
              "0"
            ]
          },
          "metadata": {},
          "execution_count": 105
        }
      ]
    },
    {
      "cell_type": "code",
      "source": [],
      "metadata": {
        "id": "e275qlGk3JtT"
      },
      "execution_count": null,
      "outputs": []
    },
    {
      "cell_type": "markdown",
      "source": [
        "Question3\n",
        "Your task is to create a Circle constructor that creates a circle with a radius provided by an\n",
        "argument. The circles constructed must have two getters getArea() (PIr^2) and\n",
        "getPerimeter() (2PI*r) which give both respective areas and perimeter (circumference).\n",
        "\n",
        "For help with this class, I have provided you with a Rectangle constructor which you can use\n",
        "as a base example."
      ],
      "metadata": {
        "id": "5zexpjN73RXS"
      }
    },
    {
      "cell_type": "code",
      "source": [
        "class circle():\n",
        "  def __init__(self, r):\n",
        "    self.r = r\n",
        "  def get_Area(self):\n",
        "    return round(self.r**2*3.14)\n",
        "\n",
        "  def get_Perimeter(self):\n",
        "    return round(2*self.r*3.14)\n"
      ],
      "metadata": {
        "id": "wCQTnufl3SBL"
      },
      "execution_count": 112,
      "outputs": []
    },
    {
      "cell_type": "code",
      "source": [
        "orj_circle = circle(2.5)"
      ],
      "metadata": {
        "id": "cRincBPd3zjj"
      },
      "execution_count": 120,
      "outputs": []
    },
    {
      "cell_type": "code",
      "source": [
        "orj_circle.get_Area()"
      ],
      "metadata": {
        "colab": {
          "base_uri": "https://localhost:8080/"
        },
        "id": "L5H9617V36mD",
        "outputId": "40632d7d-2e71-40f2-d4bf-5bc041c6d21e"
      },
      "execution_count": 121,
      "outputs": [
        {
          "output_type": "execute_result",
          "data": {
            "text/plain": [
              "20"
            ]
          },
          "metadata": {},
          "execution_count": 121
        }
      ]
    },
    {
      "cell_type": "code",
      "source": [
        "orj_circle.get_Perimeter()"
      ],
      "metadata": {
        "colab": {
          "base_uri": "https://localhost:8080/"
        },
        "id": "odFaUdp34BHL",
        "outputId": "1457daa4-6dc9-4741-8393-df54f49d3a49"
      },
      "execution_count": 122,
      "outputs": [
        {
          "output_type": "execute_result",
          "data": {
            "text/plain": [
              "16"
            ]
          },
          "metadata": {},
          "execution_count": 122
        }
      ]
    },
    {
      "cell_type": "code",
      "source": [],
      "metadata": {
        "id": "78Z_2IuN8-o9"
      },
      "execution_count": null,
      "outputs": []
    },
    {
      "cell_type": "markdown",
      "source": [
        "Question4\n",
        "Create a function that takes a list of strings and return a list, sorted from shortest to longest.\n",
        "Examples\n",
        "sort_by_length([&quot;Google&quot;, &quot;Apple&quot;, &quot;Microsoft&quot;])\n",
        "➞ [&quot;Apple&quot;, &quot;Google&quot;, &quot;Microsoft&quot;]\n",
        "sort_by_length([&quot;Leonardo&quot;, &quot;Michelangelo&quot;, &quot;Raphael&quot;, &quot;Donatello&quot;])\n",
        "➞ [&quot;Raphael&quot;, &quot;Leonardo&quot;, &quot;Donatello&quot;, &quot;Michelangelo&quot;]\n",
        "sort_by_length([&quot;Turing&quot;, &quot;Einstein&quot;, &quot;Jung&quot;])\n",
        "➞ [&quot;Jung&quot;, &quot;Turing&quot;, &quot;Einstein&quot;]"
      ],
      "metadata": {
        "id": "ATvMulTg9Jk9"
      }
    },
    {
      "cell_type": "code",
      "source": [
        "def sort_by_length(lst):\n",
        "    return sorted(lst, key = len)\n",
        "     "
      ],
      "metadata": {
        "id": "rsL4s67K9KEs"
      },
      "execution_count": 126,
      "outputs": []
    },
    {
      "cell_type": "code",
      "source": [
        "sort_by_length([\"Turing\", \"Einstein\", \"Jung\"]) "
      ],
      "metadata": {
        "colab": {
          "base_uri": "https://localhost:8080/"
        },
        "id": "K22tdRAB9d29",
        "outputId": "063f269a-3c35-449b-9af0-d7b215ccf0ca"
      },
      "execution_count": 127,
      "outputs": [
        {
          "output_type": "execute_result",
          "data": {
            "text/plain": [
              "['Jung', 'Turing', 'Einstein']"
            ]
          },
          "metadata": {},
          "execution_count": 127
        }
      ]
    },
    {
      "cell_type": "code",
      "source": [],
      "metadata": {
        "id": "VHvM6Qkg9gzE"
      },
      "execution_count": null,
      "outputs": []
    },
    {
      "cell_type": "markdown",
      "source": [
        "Question5\n",
        "Create a function that validates whether three given integers form a Pythagorean triplet. The\n",
        "sum of the squares of the two smallest integers must equal the square of the largest number to\n",
        "be validated.\n",
        "\n",
        "Examples\n",
        "is_triplet(3, 4, 5) ➞ True\n",
        "# 3² + 4² = 25\n",
        "# 5² = 25\n",
        "is_triplet(13, 5, 12) ➞ True\n",
        "# 5² + 12² = 169\n",
        "# 13² = 169\n",
        "is_triplet(1, 2, 3) ➞ False\n",
        "# 1² + 2² = 5\n",
        "# 3² = 9"
      ],
      "metadata": {
        "id": "FMLkZzbm-AfX"
      }
    },
    {
      "cell_type": "code",
      "source": [
        "def is_triplet(a , b, c):\n",
        "  if (a**2) + (b**2) == c**2 :\n",
        "    return True\n",
        "  else:\n",
        "    return False\n",
        "\n",
        "a = int(input(\"Enter Value A: \"))\n",
        "b = int(input(\"Enter Value B: \"))\n",
        "c = int(input(\"Enter Value c: \"))\n",
        "\n",
        "print(is_triplet(a , b , c))"
      ],
      "metadata": {
        "colab": {
          "base_uri": "https://localhost:8080/"
        },
        "id": "nVY5KxFZ-BBl",
        "outputId": "b029231a-3706-4b15-db1f-2578830da9c7"
      },
      "execution_count": 130,
      "outputs": [
        {
          "output_type": "stream",
          "name": "stdout",
          "text": [
            "Enter Value A: 3\n",
            "Enter Value B: 4\n",
            "Enter Value c: 5\n",
            "True\n"
          ]
        }
      ]
    },
    {
      "cell_type": "code",
      "source": [],
      "metadata": {
        "id": "e4mc4nbf-t3d"
      },
      "execution_count": null,
      "outputs": []
    }
  ]
}