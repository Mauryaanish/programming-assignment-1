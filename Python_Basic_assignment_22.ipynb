{
  "nbformat": 4,
  "nbformat_minor": 0,
  "metadata": {
    "colab": {
      "provenance": []
    },
    "kernelspec": {
      "name": "python3",
      "display_name": "Python 3"
    },
    "language_info": {
      "name": "python"
    }
  },
  "cells": [
    {
      "cell_type": "markdown",
      "source": [
        "Question1\n",
        "Create a function that takes three parameters where:\n",
        " x is the start of the range (inclusive).\n",
        " y is the end of the range (inclusive).\n",
        " n is the divisor to be checked against.\n",
        "Return an ordered list with numbers in the range that are divisible by the third parameter n.\n",
        "Return an empty list if there are no numbers that are divisible by n.\n",
        "Examples\n",
        "list_operation(1, 10, 3) ➞ [3, 6, 9]\n",
        "list_operation(7, 9, 2) ➞ [8]\n",
        "list_operation(15, 20, 7) ➞ []"
      ],
      "metadata": {
        "id": "hMnqQ86zh99u"
      }
    },
    {
      "cell_type": "code",
      "source": [
        "def list_operation(a,b,c):\n",
        "  l = []\n",
        "  for i in range(a , b+1):\n",
        "    if i % c == 0:\n",
        "      l.append(i)\n",
        "  print(l)\n",
        "\n",
        "a = int(input(\"Enter Number A: \"))\n",
        "b = int(input(\"Enter Number B: \"))\n",
        "c= int(input(\"Enter Number C: \"))\n",
        "\n",
        "print(list_operation(a,b,c))"
      ],
      "metadata": {
        "colab": {
          "base_uri": "https://localhost:8080/"
        },
        "id": "6dcFVxTIqMpN",
        "outputId": "026e996b-9d50-4599-f1f9-dc56ef77d673"
      },
      "execution_count": 13,
      "outputs": [
        {
          "output_type": "stream",
          "name": "stdout",
          "text": [
            "Enter Number A: 2\n",
            "Enter Number B: 18\n",
            "Enter Number C: 4\n",
            "[4, 8, 12, 16]\n",
            "None\n"
          ]
        }
      ]
    },
    {
      "cell_type": "code",
      "source": [],
      "metadata": {
        "id": "XDKuG5AHq1FJ"
      },
      "execution_count": null,
      "outputs": []
    },
    {
      "cell_type": "markdown",
      "source": [
        "Question2\n",
        "Create a function that takes in two lists and returns True if the second list follows the first list\n",
        "by one element, and False otherwise. In other words, determine if the second list is the first\n",
        "list shifted to the right by 1.\n",
        "Examples\n",
        "simon_says([1, 2], [5, 1]) ➞ True\n",
        "simon_says([1, 2], [5, 5]) ➞ False\n",
        "simon_says([1, 2, 3, 4, 5], [0, 1, 2, 3, 4]) ➞ True\n",
        "simon_says([1, 2, 3, 4, 5], [5, 5, 1, 2, 3]) ➞ False"
      ],
      "metadata": {
        "id": "l-_zhzeyrN1R"
      }
    },
    {
      "cell_type": "code",
      "source": [
        "def simon_says(ls,ls2):\n",
        "    if ls[0:len(ls)-1] == ls2[1:len(ls2)]:\n",
        "        return True\n",
        "    return False"
      ],
      "metadata": {
        "id": "HUNklXVnrOTZ"
      },
      "execution_count": 14,
      "outputs": []
    },
    {
      "cell_type": "code",
      "source": [
        "simon_says([1, 2], [5, 1])"
      ],
      "metadata": {
        "colab": {
          "base_uri": "https://localhost:8080/"
        },
        "id": "jby4DB91rnmA",
        "outputId": "fbfa3b98-ed28-4b2e-9eb0-f4355cb6d342"
      },
      "execution_count": 15,
      "outputs": [
        {
          "output_type": "execute_result",
          "data": {
            "text/plain": [
              "True"
            ]
          },
          "metadata": {},
          "execution_count": 15
        }
      ]
    },
    {
      "cell_type": "code",
      "source": [
        "simon_says([1, 2], [5, 5])"
      ],
      "metadata": {
        "colab": {
          "base_uri": "https://localhost:8080/"
        },
        "id": "Ce6by4ghrprx",
        "outputId": "6c660435-38cf-4993-8375-e49f853c353d"
      },
      "execution_count": 16,
      "outputs": [
        {
          "output_type": "execute_result",
          "data": {
            "text/plain": [
              "False"
            ]
          },
          "metadata": {},
          "execution_count": 16
        }
      ]
    },
    {
      "cell_type": "code",
      "source": [],
      "metadata": {
        "id": "99oljX9PrsSJ"
      },
      "execution_count": null,
      "outputs": []
    },
    {
      "cell_type": "markdown",
      "source": [
        "Question3\n",
        "A group of friends have decided to start a secret society. The name will be the first letter of\n",
        "each of their names, sorted in alphabetical order.\n",
        "Create a function that takes in a list of names and returns the name of the secret society.\n",
        "\n",
        "Examples\n",
        "society_name([&quot;Adam&quot;, &quot;Sarah&quot;, &quot;Malcolm&quot;]) ➞ &quot;AMS&quot;\n",
        "society_name([&quot;Harry&quot;, &quot;Newt&quot;, &quot;Luna&quot;, &quot;Cho&quot;]) ➞ &quot;CHLN&quot;\n",
        "society_name([&quot;Phoebe&quot;, &quot;Chandler&quot;, &quot;Rachel&quot;, &quot;Ross&quot;, &quot;Monica&quot;, &quot;Joey&quot;])"
      ],
      "metadata": {
        "id": "mb1N6bd7r6RY"
      }
    },
    {
      "cell_type": "code",
      "source": [
        "def society_name(l):\n",
        "  l1 = []\n",
        "  for i in l:\n",
        "    l1.append(i[0])\n",
        "    l1.sort()\n",
        "  print(\"\".join(l1))"
      ],
      "metadata": {
        "id": "rEzdzNX6r64Z"
      },
      "execution_count": 33,
      "outputs": []
    },
    {
      "cell_type": "code",
      "source": [
        "society_name([\"Adam\", \"Sarah\", \"Malcolm\"])"
      ],
      "metadata": {
        "colab": {
          "base_uri": "https://localhost:8080/"
        },
        "id": "NarMvrXfsGUK",
        "outputId": "f4b62404-1f3c-4895-83eb-d5c80bca9bc4"
      },
      "execution_count": 34,
      "outputs": [
        {
          "output_type": "stream",
          "name": "stdout",
          "text": [
            "AMS\n"
          ]
        }
      ]
    },
    {
      "cell_type": "code",
      "source": [
        "society_name([\"Harry\", \"Newt\", \"Luna\", \"Cho\"])"
      ],
      "metadata": {
        "colab": {
          "base_uri": "https://localhost:8080/"
        },
        "id": "Uc3Mec3lsJP5",
        "outputId": "3e77112e-2a23-4ff7-a478-e2b07b5fb506"
      },
      "execution_count": 30,
      "outputs": [
        {
          "output_type": "stream",
          "name": "stdout",
          "text": [
            "CHLN\n"
          ]
        }
      ]
    },
    {
      "cell_type": "code",
      "source": [],
      "metadata": {
        "id": "KPweNDgqtJCx"
      },
      "execution_count": null,
      "outputs": []
    },
    {
      "cell_type": "markdown",
      "source": [
        "Question4\n",
        "An isogram is a word that has no duplicate letters. Create a function that takes a string and\n",
        "returns either True or False depending on whether or not it&#39;s an &quot;isogram&quot;.\n",
        "Examples\n",
        "is_isogram(&quot;Algorism&quot;) ➞ True\n",
        "is_isogram(&quot;PasSword&quot;) ➞ False\n",
        "# Not case sensitive.\n",
        "is_isogram(&quot;Consecutive&quot;) ➞ False\n",
        "Notes\n",
        " Ignore letter case (should not be case sensitive).\n",
        " All test cases contain valid one word strings."
      ],
      "metadata": {
        "id": "lAGOZf-CtuSI"
      }
    },
    {
      "cell_type": "code",
      "source": [
        "def is_isogram(s):\n",
        "    for i in range(len(s)):\n",
        "        if s.lower().count(s[i]) > 1:\n",
        "            return False\n",
        "    else:\n",
        "        return True"
      ],
      "metadata": {
        "id": "4_K9tclxtuvZ"
      },
      "execution_count": 35,
      "outputs": []
    },
    {
      "cell_type": "code",
      "source": [
        " is_isogram(\"Algorism\")"
      ],
      "metadata": {
        "colab": {
          "base_uri": "https://localhost:8080/"
        },
        "id": "Oko5Uq7yt89K",
        "outputId": "cf29c430-a13e-4a99-8b10-4f516803d74d"
      },
      "execution_count": 36,
      "outputs": [
        {
          "output_type": "execute_result",
          "data": {
            "text/plain": [
              "True"
            ]
          },
          "metadata": {},
          "execution_count": 36
        }
      ]
    },
    {
      "cell_type": "code",
      "source": [
        "is_isogram(\"PasSword\")"
      ],
      "metadata": {
        "colab": {
          "base_uri": "https://localhost:8080/"
        },
        "id": "72czjHLFuBCK",
        "outputId": "36499f39-696c-4670-d229-9941f762c676"
      },
      "execution_count": 37,
      "outputs": [
        {
          "output_type": "execute_result",
          "data": {
            "text/plain": [
              "False"
            ]
          },
          "metadata": {},
          "execution_count": 37
        }
      ]
    },
    {
      "cell_type": "code",
      "source": [],
      "metadata": {
        "id": "ZijNq3npuEvB"
      },
      "execution_count": null,
      "outputs": []
    },
    {
      "cell_type": "markdown",
      "source": [
        "Question5\n",
        "Create a function that takes a string and returns True or False, depending on whether the\n",
        "characters are in order or not."
      ],
      "metadata": {
        "id": "UgVqO3XduLnT"
      }
    },
    {
      "cell_type": "code",
      "source": [
        "def is_in_order(s):\n",
        "    n = len(s)\n",
        "    c = [s[i] for i in range(len(s))]\n",
        "    c.sort()\n",
        "    for i in range(n):\n",
        "        if c[i] != s[i]:\n",
        "            return False\n",
        "    return True\n",
        "     "
      ],
      "metadata": {
        "id": "z5btgKLXuk8p"
      },
      "execution_count": 45,
      "outputs": []
    },
    {
      "cell_type": "code",
      "source": [
        "is_in_order('abc')"
      ],
      "metadata": {
        "colab": {
          "base_uri": "https://localhost:8080/"
        },
        "id": "FY_fd1mfvAeC",
        "outputId": "8711a5c6-3225-457c-f844-2fbc6d4bb777"
      },
      "execution_count": 46,
      "outputs": [
        {
          "output_type": "execute_result",
          "data": {
            "text/plain": [
              "True"
            ]
          },
          "metadata": {},
          "execution_count": 46
        }
      ]
    },
    {
      "cell_type": "code",
      "source": [
        "is_in_order('edabit')\n"
      ],
      "metadata": {
        "id": "pJ4FK0z6vCc5",
        "outputId": "95c6611a-58dc-40a7-c86b-481f216d0678",
        "colab": {
          "base_uri": "https://localhost:8080/"
        }
      },
      "execution_count": 47,
      "outputs": [
        {
          "output_type": "execute_result",
          "data": {
            "text/plain": [
              "False"
            ]
          },
          "metadata": {},
          "execution_count": 47
        }
      ]
    },
    {
      "cell_type": "code",
      "source": [],
      "metadata": {
        "id": "rtGKiZtIvF2B"
      },
      "execution_count": null,
      "outputs": []
    }
  ]
}