{
  "nbformat": 4,
  "nbformat_minor": 0,
  "metadata": {
    "colab": {
      "provenance": []
    },
    "kernelspec": {
      "name": "python3",
      "display_name": "Python 3"
    },
    "language_info": {
      "name": "python"
    }
  },
  "cells": [
    {
      "cell_type": "markdown",
      "source": [
        "1. Write a Python program to find words which are greater than given length k?"
      ],
      "metadata": {
        "id": "0xGSnpPRgEKw"
      }
    },
    {
      "cell_type": "code",
      "source": [
        "def find(s , k):\n",
        "  word  = s.split()\n",
        "  for i in word:\n",
        "    if len(i) > k:\n",
        "      print(i)\n",
        "    else:\n",
        "      print(f\"Lenght for {k} Not in Word\")\n",
        "      break"
      ],
      "metadata": {
        "id": "TUyq3jQKgEx7"
      },
      "execution_count": 14,
      "outputs": []
    },
    {
      "cell_type": "code",
      "source": [
        "find((\"Hello Ramesh bhai How are you\") , 8)"
      ],
      "metadata": {
        "colab": {
          "base_uri": "https://localhost:8080/"
        },
        "id": "kpPZ8b9cjO7O",
        "outputId": "b79a9326-3c13-4c69-fa16-cf7c682fdf42"
      },
      "execution_count": 12,
      "outputs": [
        {
          "output_type": "stream",
          "name": "stdout",
          "text": [
            "Lenght for 8 Not in Word\n"
          ]
        }
      ]
    },
    {
      "cell_type": "code",
      "source": [],
      "metadata": {
        "id": "_g_wRIS1ji9f"
      },
      "execution_count": null,
      "outputs": []
    },
    {
      "cell_type": "markdown",
      "source": [
        "2. Write a Python program for removing i-th character from a string?"
      ],
      "metadata": {
        "id": "i5c-bDa1kSZH"
      }
    },
    {
      "cell_type": "code",
      "source": [
        "def remove(string, i):\n",
        " \n",
        "    for j in range(len(string)):\n",
        "        if j == i:\n",
        "            string = string.replace(string[i], \"\", 1)\n",
        "    return string\n",
        " \n",
        " \n",
        "# Driver Code\n",
        "if __name__ == '__main__':\n",
        " \n",
        "    string = \"geeksFORgeeks\"\n",
        " \n",
        "    # Remove nth index element\n",
        "    i = 5\n",
        " \n",
        "    # Print the new string\n",
        "    print(remove(string, i))"
      ],
      "metadata": {
        "colab": {
          "base_uri": "https://localhost:8080/"
        },
        "id": "5ZrLaUAZkTKv",
        "outputId": "ffa1c4ca-ad56-4614-df54-9260470d1eda"
      },
      "execution_count": 19,
      "outputs": [
        {
          "output_type": "stream",
          "name": "stdout",
          "text": [
            "geeksORgeeks\n"
          ]
        }
      ]
    },
    {
      "cell_type": "code",
      "source": [],
      "metadata": {
        "id": "3HQF2L-UqcqF"
      },
      "execution_count": null,
      "outputs": []
    },
    {
      "cell_type": "markdown",
      "source": [
        "3. Write a Python program to split and join a string?"
      ],
      "metadata": {
        "id": "4hcx05C1q2P6"
      }
    },
    {
      "cell_type": "code",
      "source": [
        "def string(s):\n",
        "  word = s.split()\n",
        "  print(\"-\".join(word))\n",
        "  "
      ],
      "metadata": {
        "id": "PSzcFLWSq2-r"
      },
      "execution_count": 30,
      "outputs": []
    },
    {
      "cell_type": "code",
      "source": [
        "string(\"Hello Wellcome to India \")"
      ],
      "metadata": {
        "colab": {
          "base_uri": "https://localhost:8080/"
        },
        "id": "x43WQyLUrUGj",
        "outputId": "e22dda69-7295-48e4-bd4f-4d877ba70dfe"
      },
      "execution_count": 31,
      "outputs": [
        {
          "output_type": "stream",
          "name": "stdout",
          "text": [
            "Hello-Wellcome-to-India\n"
          ]
        }
      ]
    },
    {
      "cell_type": "code",
      "source": [],
      "metadata": {
        "id": "hwTfTFyIrptL"
      },
      "execution_count": null,
      "outputs": []
    },
    {
      "cell_type": "markdown",
      "source": [
        "4. Write a Python to check if a given string is binary string or not?"
      ],
      "metadata": {
        "id": "G7cqGN-6wk1P"
      }
    },
    {
      "cell_type": "code",
      "source": [
        "def check(string):\n",
        " \n",
        "    # set function convert string\n",
        "    # into set of characters .\n",
        "    p = set(string)\n",
        " \n",
        "    # declare set of '0', '1' .\n",
        "    s = {'0', '1'}\n",
        " \n",
        "    # check set p is same as set s\n",
        "    # or set p contains only '0'\n",
        "    # or set p contains only '1'\n",
        "    # or not, if any one condition\n",
        "    # is true then string is accepted\n",
        "    # otherwise not .\n",
        "    if s == p or p == {'0'} or p == {'1'}:\n",
        "        print(\"Yes\")\n",
        "    else:\n",
        "        print(\"No\")\n",
        " \n",
        " \n",
        "# driver code\n",
        "if __name__ == \"__main__\":\n",
        " \n",
        "    string = \"101010000111\"\n",
        " \n",
        "    # function calling\n",
        "    check(string)\n"
      ],
      "metadata": {
        "colab": {
          "base_uri": "https://localhost:8080/"
        },
        "id": "pWMno01qwlfF",
        "outputId": "c5a543d4-0a2a-4264-88a1-fb3bc1d9874f"
      },
      "execution_count": 32,
      "outputs": [
        {
          "output_type": "stream",
          "name": "stdout",
          "text": [
            "Yes\n"
          ]
        }
      ]
    },
    {
      "cell_type": "code",
      "source": [],
      "metadata": {
        "id": "Di1roSabxGE9"
      },
      "execution_count": null,
      "outputs": []
    },
    {
      "cell_type": "markdown",
      "source": [
        "5. Write a Python program to find uncommon words from two Strings?"
      ],
      "metadata": {
        "id": "ykkjvDzfxIOs"
      }
    },
    {
      "cell_type": "code",
      "source": [
        "def UncommonWords(A, B):\n",
        " \n",
        "    # count will contain all the word counts\n",
        "    count = {}\n",
        " \n",
        "    # insert words of string A to hash\n",
        "    for word in A.split():\n",
        "        count[word] = count.get(word, 0) + 1\n",
        " \n",
        "    # insert words of string B to hash\n",
        "    for word in B.split():\n",
        "        count[word] = count.get(word, 0) + 1\n",
        " \n",
        "    # return required list of words\n",
        "    return [word for word in count if count[word] == 1]\n",
        " \n",
        " \n",
        "# Driver Code\n",
        "A = \"Hello Welcome to india\"\n",
        "B = \"Welcome to Gujarat\"\n",
        " \n",
        "# Print required answer\n",
        "print(UncommonWords(A, B))"
      ],
      "metadata": {
        "colab": {
          "base_uri": "https://localhost:8080/"
        },
        "id": "SV0R68H2xN5m",
        "outputId": "4de9d6c8-d3cb-4b54-b033-ed84b05cf2e5"
      },
      "execution_count": 33,
      "outputs": [
        {
          "output_type": "stream",
          "name": "stdout",
          "text": [
            "['Hello', 'india', 'Gujarat']\n"
          ]
        }
      ]
    },
    {
      "cell_type": "code",
      "source": [],
      "metadata": {
        "id": "y2jcxTKzxrU2"
      },
      "execution_count": null,
      "outputs": []
    },
    {
      "cell_type": "markdown",
      "source": [
        "6. Write a Python to find all duplicate characters in string?"
      ],
      "metadata": {
        "id": "YxQnM4vLx34F"
      }
    },
    {
      "cell_type": "code",
      "source": [
        "def find_dup_char(input):\n",
        "    x=[]\n",
        "    for i in input:\n",
        "        if i not in x and input.count(i)>1:\n",
        "            x.append(i)\n",
        "    print(\" \".join(x))\n",
        " \n",
        "# Driver program\n",
        "if __name__ == \"__main__\":\n",
        "    input = 'maurya anish kumar'\n",
        "    find_dup_char(input)"
      ],
      "metadata": {
        "colab": {
          "base_uri": "https://localhost:8080/"
        },
        "id": "mNX8Jfi_yLnu",
        "outputId": "2b50a1be-403a-44d6-fddb-0a4eb1025c4c"
      },
      "execution_count": 39,
      "outputs": [
        {
          "output_type": "stream",
          "name": "stdout",
          "text": [
            "m a u r  \n"
          ]
        }
      ]
    },
    {
      "cell_type": "code",
      "source": [],
      "metadata": {
        "id": "uj4NmIp1zLLk"
      },
      "execution_count": null,
      "outputs": []
    },
    {
      "cell_type": "code",
      "source": [],
      "metadata": {
        "id": "gdnuqNxdzSIf"
      },
      "execution_count": null,
      "outputs": []
    }
  ]
}