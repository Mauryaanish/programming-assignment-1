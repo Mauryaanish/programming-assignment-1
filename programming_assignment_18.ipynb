{
  "nbformat": 4,
  "nbformat_minor": 0,
  "metadata": {
    "colab": {
      "provenance": []
    },
    "kernelspec": {
      "name": "python3",
      "display_name": "Python 3"
    },
    "language_info": {
      "name": "python"
    }
  },
  "cells": [
    {
      "cell_type": "markdown",
      "source": [
        "Question 1\n",
        "Create a function that takes a list of non-negative integers and strings and return a new list\n",
        "without the strings.\n",
        "Examples\n",
        "filter_list([1, 2, &quot;a&quot;, &quot;b&quot;]) ➞ [1, 2]\n",
        "filter_list([1, &quot;a&quot;, &quot;b&quot;, 0, 15]) ➞ [1, 0, 15]\n",
        "filter_list([1, 2, &quot;aasf&quot;, &quot;1&quot;, &quot;123&quot;, 123]) ➞ [1, 2, 123]"
      ],
      "metadata": {
        "id": "jr3d6OMXxTJf"
      }
    },
    {
      "cell_type": "code",
      "source": [
        "def filter_list(l):\n",
        "  l1 = []\n",
        "  for i in l:\n",
        "    if type(i) == int:\n",
        "      l1.append(i)\n",
        "  print(l1)\n",
        "\n",
        "print(filter_list([\"anish\" , 22,32,24,54,\"manish\" , \"mukesh\" , \"ada\" , 43,44]))"
      ],
      "metadata": {
        "colab": {
          "base_uri": "https://localhost:8080/"
        },
        "id": "5LhoQvbJxWpo",
        "outputId": "b52ed45b-74b6-473d-98aa-c9574ff26813"
      },
      "execution_count": 12,
      "outputs": [
        {
          "output_type": "stream",
          "name": "stdout",
          "text": [
            "[22, 32, 24, 54, 43, 44]\n",
            "None\n"
          ]
        }
      ]
    },
    {
      "cell_type": "code",
      "source": [],
      "metadata": {
        "id": "I5oF8Ntpx1qT"
      },
      "execution_count": null,
      "outputs": []
    },
    {
      "cell_type": "markdown",
      "source": [
        "The &quot;Reverser&quot; takes a string as input and returns that string in reverse order, with the\n",
        "opposite case.\n",
        "Examples\n",
        "reverse(&quot;Hello World&quot;) ➞ &quot;DLROw OLLEh&quot;\n",
        "reverse(&quot;ReVeRsE&quot;) ➞ &quot;eSrEvEr&quot;\n",
        "reverse(&quot;Radar&quot;) ➞ &quot;RADAr&quot;"
      ],
      "metadata": {
        "id": "D-XddTfMzOz9"
      }
    },
    {
      "cell_type": "code",
      "source": [
        "word = str(input(\"Enter Word: \"))\n",
        "reverse = (word[-1:0:-1])\n",
        "reverse.swapcase()"
      ],
      "metadata": {
        "colab": {
          "base_uri": "https://localhost:8080/",
          "height": 53
        },
        "id": "n15v68pdzXgp",
        "outputId": "7b861baf-a63c-45cb-c104-2907e83ac924"
      },
      "execution_count": 17,
      "outputs": [
        {
          "name": "stdout",
          "output_type": "stream",
          "text": [
            "Enter Word: AsjwhdhUNLMCk\n"
          ]
        },
        {
          "output_type": "execute_result",
          "data": {
            "text/plain": [
              "'KcmlnuHDHWJS'"
            ],
            "application/vnd.google.colaboratory.intrinsic+json": {
              "type": "string"
            }
          },
          "metadata": {},
          "execution_count": 17
        }
      ]
    },
    {
      "cell_type": "code",
      "source": [],
      "metadata": {
        "id": "Gk_WdMGD3zV4"
      },
      "execution_count": null,
      "outputs": []
    },
    {
      "cell_type": "markdown",
      "source": [
        "Question 3\n",
        "You can assign variables from lists like this:\n",
        "lst = [1, 2, 3, 4, 5, 6]\n",
        "first = lst[0]\n",
        "middle = lst[1:-1]\n",
        "last = lst[-1]\n",
        "print(first) ➞ outputs 1\n",
        "print(middle) ➞ outputs [2, 3, 4, 5]\n",
        "print(last) ➞ outputs 6"
      ],
      "metadata": {
        "id": "ZrtxKEW05L_e"
      }
    },
    {
      "cell_type": "code",
      "source": [
        "list_1 = [1,2,3,4,5,6,7,8,9]\n",
        "first = list_1[1]\n",
        "middle = list_1[1:-1]\n",
        "last = list_1[-1]\n",
        "print(f\"First :- {first}\")\n",
        "print(f\"Middle :- {middle}\")\n",
        "print(f\"Last :- {last}\")"
      ],
      "metadata": {
        "colab": {
          "base_uri": "https://localhost:8080/"
        },
        "id": "tbojJ2hp5Mmp",
        "outputId": "82cff2bf-b379-40e8-b748-8b8c736ecbfe"
      },
      "execution_count": 27,
      "outputs": [
        {
          "output_type": "stream",
          "name": "stdout",
          "text": [
            "First :- 2\n",
            "Middle :- [2, 3, 4, 5, 6, 7, 8]\n",
            "Last :- 9\n"
          ]
        }
      ]
    },
    {
      "cell_type": "code",
      "source": [],
      "metadata": {
        "id": "5x6xVf0o6Cn_"
      },
      "execution_count": null,
      "outputs": []
    },
    {
      "cell_type": "markdown",
      "source": [
        "Write a function that calculates the factorial of a number recursively."
      ],
      "metadata": {
        "id": "Pn0Ua2Wb7AJw"
      }
    },
    {
      "cell_type": "code",
      "source": [
        "def factorial(n):     \n",
        "    if n == 0:\n",
        "        return 1    \n",
        "    return n * factorial(n-1)\n",
        "\n",
        "num = int(input('enter a number :'))\n",
        "print(\"Factorial of\", num, \"is\", factorial(num))"
      ],
      "metadata": {
        "colab": {
          "base_uri": "https://localhost:8080/"
        },
        "id": "CI5U7GH-7Jal",
        "outputId": "41b8545b-d576-4c1c-c410-d84835d9af14"
      },
      "execution_count": 30,
      "outputs": [
        {
          "output_type": "stream",
          "name": "stdout",
          "text": [
            "enter a number :5\n",
            "Factorial of 5 is 120\n"
          ]
        }
      ]
    },
    {
      "cell_type": "code",
      "source": [],
      "metadata": {
        "id": "QmjSsVDM7cSO"
      },
      "execution_count": null,
      "outputs": []
    },
    {
      "cell_type": "markdown",
      "source": [
        "Question 5\n",
        "Write a function that moves all elements of one type to the end of the list."
      ],
      "metadata": {
        "id": "i0qPfC7S7pzz"
      }
    },
    {
      "cell_type": "code",
      "source": [
        "def move_to_end(array, toMove):\n",
        "     \n",
        "    i = 0\n",
        " \n",
        "    \n",
        "    j = len(array) - 1\n",
        "  \n",
        "   \n",
        "    while (i < j):\n",
        "  \n",
        "        while (i < j and array[j] == toMove):\n",
        "  \n",
        "           \n",
        "            j-=1\n",
        "  \n",
        "        if (array[i] == toMove):\n",
        "  \n",
        "            # swap the two elements\n",
        "            # in the array\n",
        "            array[i], array[j] = array[j] , array[i]\n",
        "  \n",
        "       \n",
        "        i += 1\n",
        "  \n",
        "    # return the result\n",
        "    return array"
      ],
      "metadata": {
        "id": "MypOt5J27qgH"
      },
      "execution_count": 31,
      "outputs": []
    },
    {
      "cell_type": "code",
      "source": [
        "arr = [7, 8, 9, 1, 2, 3, 4]\n",
        "a = 9\n",
        "ans = move_to_end(arr, a)\n",
        "for i in range(len(arr)):\n",
        "    print(ans[i] ,end= \" \")\n",
        "     "
      ],
      "metadata": {
        "colab": {
          "base_uri": "https://localhost:8080/"
        },
        "id": "ANfV9-B37v-9",
        "outputId": "2c5314da-a37f-4ea9-c9c1-520d112f58af"
      },
      "execution_count": 32,
      "outputs": [
        {
          "output_type": "stream",
          "name": "stdout",
          "text": [
            "7 8 4 1 2 3 9 "
          ]
        }
      ]
    },
    {
      "cell_type": "code",
      "source": [
        "arr = ['a', 'a', 'a', 'b']\n",
        "k = 'a'\n",
        "ans = move_to_end(arr, k)\n",
        "for i in range(len(arr)):\n",
        "    print(ans[i] ,end= \" \")\n"
      ],
      "metadata": {
        "colab": {
          "base_uri": "https://localhost:8080/"
        },
        "id": "xO06NRd87zzr",
        "outputId": "1d64421e-7a5d-4302-a0dc-735f7316850a"
      },
      "execution_count": 33,
      "outputs": [
        {
          "output_type": "stream",
          "name": "stdout",
          "text": [
            "b a a a "
          ]
        }
      ]
    },
    {
      "cell_type": "code",
      "source": [],
      "metadata": {
        "id": "WSbgueKW73hg"
      },
      "execution_count": null,
      "outputs": []
    }
  ]
}